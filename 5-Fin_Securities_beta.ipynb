{
  "nbformat": 4,
  "nbformat_minor": 0,
  "metadata": {
    "colab": {
      "name": "5. Fin-Securities_beta.ipynb",
      "provenance": [],
      "collapsed_sections": [],
      "authorship_tag": "ABX9TyPBs69aQ4ExT91nUU7oioqw"
    },
    "kernelspec": {
      "name": "python3",
      "display_name": "Python 3"
    }
  },
  "cells": [
    {
      "cell_type": "markdown",
      "metadata": {
        "id": "XX30i-6KKIm9"
      },
      "source": [
        "$\\beta$ shows us how risky an individual security is regarding the rest of the market. It measures the market risk that cannot be avoided through diversification:\r\n",
        "\r\n",
        "$\\beta= \\frac{Cov(r_x, r_m)}{\\sigma_m^2}$, where $Cov(r_x, r_m)$ - covariance between stock and market, $\\sigma_m^2$ - market variance.\r\n",
        " \r\n",
        "$\\beta$ is typically measured with  data from the passed 5 years. \r\n",
        "\r\n",
        "$\\beta= 0$ - stock has no relationship regarding the market\r\n",
        "\r\n",
        "$\\beta= 1$ - stock performs in the same way as market does\r\n",
        "\r\n",
        "$\\beta< 1$ - defensive stock. If the market does poorly, this stock will typically loose less\r\n",
        "\r\n",
        "$\\beta> 1$ - aggresive stock. if the marked does well, this stock will typically gain more"
      ]
    },
    {
      "cell_type": "code",
      "metadata": {
        "id": "-w6uF8yhKEEg"
      },
      "source": [
        "import numpy as np\r\n",
        "import pandas as pd\r\n",
        "from pandas_datareader import data as wb"
      ],
      "execution_count": 1,
      "outputs": []
    },
    {
      "cell_type": "code",
      "metadata": {
        "id": "DgLxbTxvQaxl"
      },
      "source": [
        "tickers = ['PG', '^GSPC']\r\n",
        "data = pd.DataFrame()\r\n",
        "\r\n",
        "for t in tickers:\r\n",
        "    data[t] = wb.DataReader(t, data_source='yahoo', start='2015-1-1', end='2020-12-31')['Adj Close']"
      ],
      "execution_count": 2,
      "outputs": []
    },
    {
      "cell_type": "code",
      "metadata": {
        "id": "asztLggBNn-v"
      },
      "source": [
        "sec_returns = np.log(data / data.shift(1))"
      ],
      "execution_count": 3,
      "outputs": []
    },
    {
      "cell_type": "code",
      "metadata": {
        "colab": {
          "base_uri": "https://localhost:8080/",
          "height": 112
        },
        "id": "N_FodY0XQ7rM",
        "outputId": "9d3eb128-6308-4afe-b5c6-4a75bedeed53"
      },
      "source": [
        "cov = sec_returns.cov() * 250\r\n",
        "cov"
      ],
      "execution_count": 4,
      "outputs": [
        {
          "output_type": "execute_result",
          "data": {
            "text/html": [
              "<div>\n",
              "<style scoped>\n",
              "    .dataframe tbody tr th:only-of-type {\n",
              "        vertical-align: middle;\n",
              "    }\n",
              "\n",
              "    .dataframe tbody tr th {\n",
              "        vertical-align: top;\n",
              "    }\n",
              "\n",
              "    .dataframe thead th {\n",
              "        text-align: right;\n",
              "    }\n",
              "</style>\n",
              "<table border=\"1\" class=\"dataframe\">\n",
              "  <thead>\n",
              "    <tr style=\"text-align: right;\">\n",
              "      <th></th>\n",
              "      <th>PG</th>\n",
              "      <th>^GSPC</th>\n",
              "    </tr>\n",
              "  </thead>\n",
              "  <tbody>\n",
              "    <tr>\n",
              "      <th>PG</th>\n",
              "      <td>0.037500</td>\n",
              "      <td>0.022328</td>\n",
              "    </tr>\n",
              "    <tr>\n",
              "      <th>^GSPC</th>\n",
              "      <td>0.022328</td>\n",
              "      <td>0.034901</td>\n",
              "    </tr>\n",
              "  </tbody>\n",
              "</table>\n",
              "</div>"
            ],
            "text/plain": [
              "             PG     ^GSPC\n",
              "PG     0.037500  0.022328\n",
              "^GSPC  0.022328  0.034901"
            ]
          },
          "metadata": {
            "tags": []
          },
          "execution_count": 4
        }
      ]
    },
    {
      "cell_type": "code",
      "metadata": {
        "colab": {
          "base_uri": "https://localhost:8080/"
        },
        "id": "D3M4z5oOjjB1",
        "outputId": "a5d53b1a-2851-4416-ff91-80377475efd3"
      },
      "source": [
        "cov_with_market = cov.iloc[0,1]\r\n",
        "cov_with_market"
      ],
      "execution_count": 5,
      "outputs": [
        {
          "output_type": "execute_result",
          "data": {
            "text/plain": [
              "0.022328309414382273"
            ]
          },
          "metadata": {
            "tags": []
          },
          "execution_count": 5
        }
      ]
    },
    {
      "cell_type": "code",
      "metadata": {
        "colab": {
          "base_uri": "https://localhost:8080/"
        },
        "id": "uDQMpb44j5dk",
        "outputId": "5906177b-f0ad-4779-c158-c5558e90f967"
      },
      "source": [
        "market_var = cov.iloc[1,1]  # == sec_returns['^GSPC'].var() * 250\r\n",
        "market_var"
      ],
      "execution_count": 13,
      "outputs": [
        {
          "output_type": "execute_result",
          "data": {
            "text/plain": [
              "0.034900709086421684"
            ]
          },
          "metadata": {
            "tags": []
          },
          "execution_count": 13
        }
      ]
    },
    {
      "cell_type": "code",
      "metadata": {
        "colab": {
          "base_uri": "https://localhost:8080/"
        },
        "id": "30vddVfWkgP5",
        "outputId": "54f510da-a782-406c-d6ad-ed24bad04521"
      },
      "source": [
        "PG_beta = cov_with_market / market_var\r\n",
        "PG_beta"
      ],
      "execution_count": 14,
      "outputs": [
        {
          "output_type": "execute_result",
          "data": {
            "text/plain": [
              "0.639766640817886"
            ]
          },
          "metadata": {
            "tags": []
          },
          "execution_count": 14
        }
      ]
    }
  ]
}