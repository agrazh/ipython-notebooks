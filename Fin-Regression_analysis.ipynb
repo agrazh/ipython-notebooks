{
  "nbformat": 4,
  "nbformat_minor": 0,
  "metadata": {
    "colab": {
      "name": "Fin-Regression_analysis.ipynb",
      "provenance": [],
      "collapsed_sections": [
        "fiQGbGqrA1zS"
      ],
      "toc_visible": true,
      "authorship_tag": "ABX9TyPohcUsy8hTLG6Pxqb88wVo"
    },
    "kernelspec": {
      "name": "python3",
      "display_name": "Python 3"
    }
  },
  "cells": [
    {
      "cell_type": "code",
      "metadata": {
        "id": "y2af_8Tq84aC"
      },
      "source": [
        "import numpy as np\r\n",
        "import pandas as pd\r\n",
        "\r\n",
        "from scipy import stats\r\n",
        "import statsmodels.api as sm\r\n",
        "\r\n",
        "import matplotlib.pyplot as plt"
      ],
      "execution_count": 13,
      "outputs": []
    },
    {
      "cell_type": "code",
      "metadata": {
        "id": "a2LYCbPM_3Qq"
      },
      "source": [
        "data = pd.read_excel('./data/Housing.xlsx')"
      ],
      "execution_count": 14,
      "outputs": []
    },
    {
      "cell_type": "code",
      "metadata": {
        "colab": {
          "base_uri": "https://localhost:8080/",
          "height": 206
        },
        "id": "cIMy_DN7__Nd",
        "outputId": "573c370e-ce31-40b1-bfa5-32b4ce8f1767"
      },
      "source": [
        "data[['House Price', 'House Size (sq.ft.)']].head()"
      ],
      "execution_count": 15,
      "outputs": [
        {
          "output_type": "execute_result",
          "data": {
            "text/html": [
              "<div>\n",
              "<style scoped>\n",
              "    .dataframe tbody tr th:only-of-type {\n",
              "        vertical-align: middle;\n",
              "    }\n",
              "\n",
              "    .dataframe tbody tr th {\n",
              "        vertical-align: top;\n",
              "    }\n",
              "\n",
              "    .dataframe thead th {\n",
              "        text-align: right;\n",
              "    }\n",
              "</style>\n",
              "<table border=\"1\" class=\"dataframe\">\n",
              "  <thead>\n",
              "    <tr style=\"text-align: right;\">\n",
              "      <th></th>\n",
              "      <th>House Price</th>\n",
              "      <th>House Size (sq.ft.)</th>\n",
              "    </tr>\n",
              "  </thead>\n",
              "  <tbody>\n",
              "    <tr>\n",
              "      <th>0</th>\n",
              "      <td>1116000</td>\n",
              "      <td>1940</td>\n",
              "    </tr>\n",
              "    <tr>\n",
              "      <th>1</th>\n",
              "      <td>860000</td>\n",
              "      <td>1300</td>\n",
              "    </tr>\n",
              "    <tr>\n",
              "      <th>2</th>\n",
              "      <td>818400</td>\n",
              "      <td>1420</td>\n",
              "    </tr>\n",
              "    <tr>\n",
              "      <th>3</th>\n",
              "      <td>1000000</td>\n",
              "      <td>1680</td>\n",
              "    </tr>\n",
              "    <tr>\n",
              "      <th>4</th>\n",
              "      <td>640000</td>\n",
              "      <td>1270</td>\n",
              "    </tr>\n",
              "  </tbody>\n",
              "</table>\n",
              "</div>"
            ],
            "text/plain": [
              "   House Price  House Size (sq.ft.)\n",
              "0      1116000                 1940\n",
              "1       860000                 1300\n",
              "2       818400                 1420\n",
              "3      1000000                 1680\n",
              "4       640000                 1270"
            ]
          },
          "metadata": {
            "tags": []
          },
          "execution_count": 15
        }
      ]
    },
    {
      "cell_type": "markdown",
      "metadata": {
        "id": "fiQGbGqrA1zS"
      },
      "source": [
        "## Simple (univariate) regression"
      ]
    },
    {
      "cell_type": "markdown",
      "metadata": {
        "id": "qUfaz_S0ohVf"
      },
      "source": [
        "Regression analysis assumes the existence of a linear relationship between the two variables.\r\n",
        "\r\n",
        "In this case the prediction is made with the help of the best fitting line that contains the least amount of estimation errors:\r\n",
        "\r\n",
        "$y = \\alpha+ \\beta x$, where $\\alpha$ is an intercept, $\\beta$ is a slope.\r\n",
        "\r\n",
        "It quantifies the relationship between a variable, called <u>dependent variable</u>, and one or more <u>explanatory variables</u> (independent variables).\r\n",
        "\r\n",
        "In the example \"House size\" is an explanatory var, \"House price\" - dependent variable."
      ]
    },
    {
      "cell_type": "code",
      "metadata": {
        "id": "UnGqC_EzAwFt"
      },
      "source": [
        "# independent variable\r\n",
        "X = data['House Size (sq.ft.)']\r\n",
        "# dependent variable (predictor)\r\n",
        "y = data['House Price']"
      ],
      "execution_count": 16,
      "outputs": []
    },
    {
      "cell_type": "code",
      "metadata": {
        "colab": {
          "base_uri": "https://localhost:8080/",
          "height": 0
        },
        "id": "85-VUyaKBWeL",
        "outputId": "8a7b7e74-38d2-4ced-9fff-e45ae8343dbc"
      },
      "source": [
        "plt.scatter(X,y)\r\n",
        "plt.axis([0, 2500, 0, 1500000])\r\n",
        "plt.xlabel('House Size (sq.ft.)')\r\n",
        "plt.ylabel('House Price')\r\n",
        "plt.show()"
      ],
      "execution_count": 17,
      "outputs": [
        {
          "output_type": "display_data",
          "data": {
            "image/png": "[encoded data removed]",
            "text/plain": [
              "<Figure size 432x288 with 1 Axes>"
            ]
          },
          "metadata": {
            "tags": [],
            "needs_background": "light"
          }
        }
      ]
    },
    {
      "cell_type": "markdown",
      "metadata": {
        "id": "aM7T6MfKpsO2"
      },
      "source": [
        "The regression model can be written as:\r\n",
        "\r\n",
        "$Y = \\alpha+ \\beta x + {error}$, where error is residuals. The best fitting line minimizes the sum of the squared residuals.\r\n"
      ]
    },
    {
      "cell_type": "markdown",
      "metadata": {
        "id": "bPoJBRSN5dX7"
      },
      "source": [
        "## Explanatory power of the regression model\r\n"
      ]
    },
    {
      "cell_type": "markdown",
      "metadata": {
        "id": "LQWWU1Oj5meQ"
      },
      "source": [
        "<u>Coeficient of determination</u> (R-squared) - is a measurement used to explain how much variability of one factor can be caused by its relationship to another related factor:\r\n",
        "$$\r\n",
        "R^2 = 1 - \\frac{SSR}{TSS},\\quad R^2\\in [0,1]\r\n",
        "$$\r\n",
        "where:\r\n",
        "* <u>Total squred sum</u>:\r\n",
        "$TSS = \\sum(y_i - \\overline{y})^2$, where $\\overline{y}$ - mean value of the dependent variable \r\n",
        "\r\n",
        "* <u>Squared sum of residuals</u>: \r\n",
        "$SSR = \\sum(\\hat{y} - \\overline{y})^2$, where $\\hat{y}$ - predicted value (point on the regression line)\r\n",
        "\r\n",
        "<br/>\r\n",
        "\r\n",
        "The higher $R^2$ is, the more predictive power the model has. Model with R^2 > 30% - in most cases can be considered as the one having good explanatory power.\r\n",
        "\r\n",
        "<br/>\r\n",
        "\r\n",
        "$$TSS = SSE + SSR$$\r\n",
        "\r\n",
        "<u>Sum of squares error</u>:\r\n",
        "$SSE = \\sum e_i^2$, where $e_i$ - the difference between the observed value and the predicted value.\r\n",
        "\r\n",
        "SSE measures the unexplained variability by the regression.\r\n",
        "\r\n"
      ]
    },
    {
      "cell_type": "markdown",
      "metadata": {
        "id": "u7V5ertGEXSw"
      },
      "source": [
        "## OLS (Ordinary least squares) estimates "
      ]
    },
    {
      "cell_type": "markdown",
      "metadata": {
        "id": "90T9gsqSrHc_"
      },
      "source": [
        "OLS technique allows to find $\\alpha$ and $\\beta$ coefficients for regression line with the least ${error}$ "
      ]
    },
    {
      "cell_type": "code",
      "metadata": {
        "id": "4Mj5zsc-BXCq"
      },
      "source": [
        "# By default, statsmodels fits a line passing through the origin, i.e. it doesn't fit an intercept.\r\n",
        "# Hence, you need to use 'add_constant' so that it also fits an intercept.\r\n",
        "#\r\n",
        "X1 = sm.add_constant(X)\r\n",
        "# X1.head()"
      ],
      "execution_count": 18,
      "outputs": []
    },
    {
      "cell_type": "code",
      "metadata": {
        "id": "jKRW0cK_3E3x"
      },
      "source": [
        "# regression\r\n",
        "#\r\n",
        "reg = sm.OLS(y, X1).fit()"
      ],
      "execution_count": 19,
      "outputs": []
    },
    {
      "cell_type": "code",
      "metadata": {
        "colab": {
          "base_uri": "https://localhost:8080/",
          "height": 486
        },
        "id": "AdGDfKbd3EpK",
        "outputId": "d17ea5b3-86c1-4d83-ebac-068974e7d692"
      },
      "source": [
        "reg.summary()"
      ],
      "execution_count": 20,
      "outputs": [
        {
          "output_type": "execute_result",
          "data": {
            "text/html": [
              "<table class=\"simpletable\">\n",
              "<caption>OLS Regression Results</caption>\n",
              "<tr>\n",
              "  <th>Dep. Variable:</th>       <td>House Price</td>   <th>  R-squared:         </th> <td>   0.678</td>\n",
              "</tr>\n",
              "<tr>\n",
              "  <th>Model:</th>                   <td>OLS</td>       <th>  Adj. R-squared:    </th> <td>   0.660</td>\n",
              "</tr>\n",
              "<tr>\n",
              "  <th>Method:</th>             <td>Least Squares</td>  <th>  F-statistic:       </th> <td>   37.95</td>\n",
              "</tr>\n",
              "<tr>\n",
              "  <th>Date:</th>             <td>Mon, 01 Mar 2021</td> <th>  Prob (F-statistic):</th> <td>8.13e-06</td>\n",
              "</tr>\n",
              "<tr>\n",
              "  <th>Time:</th>                 <td>10:14:13</td>     <th>  Log-Likelihood:    </th> <td> -260.43</td>\n",
              "</tr>\n",
              "<tr>\n",
              "  <th>No. Observations:</th>      <td>    20</td>      <th>  AIC:               </th> <td>   524.9</td>\n",
              "</tr>\n",
              "<tr>\n",
              "  <th>Df Residuals:</th>          <td>    18</td>      <th>  BIC:               </th> <td>   526.8</td>\n",
              "</tr>\n",
              "<tr>\n",
              "  <th>Df Model:</th>              <td>     1</td>      <th>                     </th>     <td> </td>   \n",
              "</tr>\n",
              "<tr>\n",
              "  <th>Covariance Type:</th>      <td>nonrobust</td>    <th>                     </th>     <td> </td>   \n",
              "</tr>\n",
              "</table>\n",
              "<table class=\"simpletable\">\n",
              "<tr>\n",
              "           <td></td>              <th>coef</th>     <th>std err</th>      <th>t</th>      <th>P>|t|</th>  <th>[0.025</th>    <th>0.975]</th>  \n",
              "</tr>\n",
              "<tr>\n",
              "  <th>const</th>               <td> 2.608e+05</td> <td> 9.76e+04</td> <td>    2.673</td> <td> 0.016</td> <td> 5.58e+04</td> <td> 4.66e+05</td>\n",
              "</tr>\n",
              "<tr>\n",
              "  <th>House Size (sq.ft.)</th> <td>  401.9163</td> <td>   65.243</td> <td>    6.160</td> <td> 0.000</td> <td>  264.846</td> <td>  538.987</td>\n",
              "</tr>\n",
              "</table>\n",
              "<table class=\"simpletable\">\n",
              "<tr>\n",
              "  <th>Omnibus:</th>       <td> 1.238</td> <th>  Durbin-Watson:     </th> <td>   1.810</td>\n",
              "</tr>\n",
              "<tr>\n",
              "  <th>Prob(Omnibus):</th> <td> 0.538</td> <th>  Jarque-Bera (JB):  </th> <td>   0.715</td>\n",
              "</tr>\n",
              "<tr>\n",
              "  <th>Skew:</th>          <td>-0.459</td> <th>  Prob(JB):          </th> <td>   0.699</td>\n",
              "</tr>\n",
              "<tr>\n",
              "  <th>Kurtosis:</th>      <td> 2.884</td> <th>  Cond. No.          </th> <td>5.66e+03</td>\n",
              "</tr>\n",
              "</table><br/><br/>Warnings:<br/>[1] Standard Errors assume that the covariance matrix of the errors is correctly specified.<br/>[2] The condition number is large, 5.66e+03. This might indicate that there are<br/>strong multicollinearity or other numerical problems."
            ],
            "text/plain": [
              "<class 'statsmodels.iolib.summary.Summary'>\n",
              "\"\"\"\n",
              "                            OLS Regression Results                            \n",
              "==============================================================================\n",
              "Dep. Variable:            House Price   R-squared:                       0.678\n",
              "Model:                            OLS   Adj. R-squared:                  0.660\n",
              "Method:                 Least Squares   F-statistic:                     37.95\n",
              "Date:                Mon, 01 Mar 2021   Prob (F-statistic):           8.13e-06\n",
              "Time:                        10:14:13   Log-Likelihood:                -260.43\n",
              "No. Observations:                  20   AIC:                             524.9\n",
              "Df Residuals:                      18   BIC:                             526.8\n",
              "Df Model:                           1                                         \n",
              "Covariance Type:            nonrobust                                         \n",
              "=======================================================================================\n",
              "                          coef    std err          t      P>|t|      [0.025      0.975]\n",
              "---------------------------------------------------------------------------------------\n",
              "const                2.608e+05   9.76e+04      2.673      0.016    5.58e+04    4.66e+05\n",
              "House Size (sq.ft.)   401.9163     65.243      6.160      0.000     264.846     538.987\n",
              "==============================================================================\n",
              "Omnibus:                        1.238   Durbin-Watson:                   1.810\n",
              "Prob(Omnibus):                  0.538   Jarque-Bera (JB):                0.715\n",
              "Skew:                          -0.459   Prob(JB):                        0.699\n",
              "Kurtosis:                       2.884   Cond. No.                     5.66e+03\n",
              "==============================================================================\n",
              "\n",
              "Warnings:\n",
              "[1] Standard Errors assume that the covariance matrix of the errors is correctly specified.\n",
              "[2] The condition number is large, 5.66e+03. This might indicate that there are\n",
              "strong multicollinearity or other numerical problems.\n",
              "\"\"\""
            ]
          },
          "metadata": {
            "tags": []
          },
          "execution_count": 20
        }
      ]
    },
    {
      "cell_type": "markdown",
      "metadata": {
        "id": "oneEFMwcHrYA"
      },
      "source": [
        "`Dep. Variable` - name of the dependent variable\r\n",
        "\r\n",
        "`Model`, `Method` - type of regression\r\n",
        "\r\n",
        "`R-squared` - R-squared value \r\n",
        "\r\n",
        "`(coef, const)` - is an intercept $\\alpha$\r\n",
        "\r\n",
        "`(coef, dependent_var_name)` - is a slope $\\beta$\r\n",
        "\r\n"
      ]
    },
    {
      "cell_type": "code",
      "metadata": {
        "id": "8hLzAeoqHPRP"
      },
      "source": [
        "slope, intercept, r_value, p_value, std_err = stats.linregress(X,y)"
      ],
      "execution_count": 21,
      "outputs": []
    },
    {
      "cell_type": "code",
      "metadata": {
        "colab": {
          "base_uri": "https://localhost:8080/"
        },
        "id": "ldI-LaeuNIDh",
        "outputId": "e3ccee55-3ca0-42a1-9469-bceca4c7107e"
      },
      "source": [
        "print(\"Slope: {}\\nIntercept: {}\\nR-value: {}\\nP-value: {}\\nStandard error: {}\" \\\r\n",
        "      .format(slope, intercept, r_value, p_value, std_err))"
      ],
      "execution_count": 31,
      "outputs": [
        {
          "output_type": "stream",
          "text": [
            "Slope: 401.91628631922595\n",
            "Intercept: 260806.2360560964\n",
            "R-value: 0.8235775534696924\n",
            "P-value: 8.129642377231308e-06\n",
            "Standard error: 65.24299510636492\n"
          ],
          "name": "stdout"
        }
      ]
    },
    {
      "cell_type": "markdown",
      "metadata": {
        "id": "haEjjKM79mTs"
      },
      "source": [
        "## Multivariate regressions\r\n",
        "\r\n",
        "(𝑌𝑖=β0+β1 𝑋1+β2 𝑋2+β3 𝑋3+ε𝑖)\r\n",
        "\r\n",
        "By considering more variables in the regression equation, we’ll\r\n",
        "improve its explanatory power and provide a better idea of the full\r\n",
        "picture of circumstances that determine the development of the\r\n",
        "variable we are trying to predict"
      ]
    }
  ]
}