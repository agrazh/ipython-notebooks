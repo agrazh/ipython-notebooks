{
  "nbformat": 4,
  "nbformat_minor": 0,
  "metadata": {
    "colab": {
      "name": "5. Fin-Securities_beta.ipynb",
      "provenance": [],
      "collapsed_sections": [],
      "authorship_tag": "ABX9TyPHgSnsIq9tJr3vsH40DpNJ"
    },
    "kernelspec": {
      "name": "python3",
      "display_name": "Python 3"
    }
  },
  "cells": [
    {
      "cell_type": "markdown",
      "metadata": {
        "id": "XX30i-6KKIm9"
      },
      "source": [
        "$\\beta$ shows us how risky an individual security is regarding the rest of the market. It measures the market risk that cannot be avoided through diversification:\r\n",
        "\r\n",
        "$\\beta= \\frac{Cov(r_x, r_m)}{\\sigma_m^2}$, where $Cov(r_x, r_m)$ - covariance between stock and market, $\\sigma_m^2$ - market variance.\r\n",
        " \r\n",
        "$\\beta$ is typically measured with  data from the passed 5 years. \r\n",
        "\r\n",
        "$\\beta= 0$ - stock has no relationship regarding the market\r\n",
        "\r\n",
        "$\\beta= 1$ - stock performs in the same way as market does\r\n",
        "\r\n",
        "$\\beta< 1$ - defensive stock. If the market does poorly, this stock will typically loose less\r\n",
        "\r\n",
        "$\\beta> 1$ - aggresive stock. if the marked does well, this stock will typically gain more"
      ]
    },
    {
      "cell_type": "code",
      "metadata": {
        "id": "-w6uF8yhKEEg"
      },
      "source": [
        "import numpy as np\r\n",
        "import pandas as pd\r\n",
        "from pandas_datareader import data as wb"
      ],
      "execution_count": 15,
      "outputs": []
    },
    {
      "cell_type": "code",
      "metadata": {
        "id": "DgLxbTxvQaxl"
      },
      "source": [
        "tickers = ['PG', '^GSPC']\r\n",
        "data = pd.DataFrame()\r\n",
        "\r\n",
        "for t in tickers:\r\n",
        "    data[t] = wb.DataReader(t, data_source='yahoo', start='2015-1-1', end='2020-12-31')['Adj Close']"
      ],
      "execution_count": 16,
      "outputs": []
    },
    {
      "cell_type": "code",
      "metadata": {
        "id": "asztLggBNn-v"
      },
      "source": [
        "sec_returns = np.log(data / data.shift(1))"
      ],
      "execution_count": 17,
      "outputs": []
    },
    {
      "cell_type": "code",
      "metadata": {
        "colab": {
          "base_uri": "https://localhost:8080/",
          "height": 112
        },
        "id": "N_FodY0XQ7rM",
        "outputId": "efc5d467-948d-41e9-d7a2-8285ed6d3e0f"
      },
      "source": [
        "cov = sec_returns.cov() * 250\r\n",
        "cov"
      ],
      "execution_count": 18,
      "outputs": [
        {
          "output_type": "execute_result",
          "data": {
            "text/html": [
              "<div>\n",
              "<style scoped>\n",
              "    .dataframe tbody tr th:only-of-type {\n",
              "        vertical-align: middle;\n",
              "    }\n",
              "\n",
              "    .dataframe tbody tr th {\n",
              "        vertical-align: top;\n",
              "    }\n",
              "\n",
              "    .dataframe thead th {\n",
              "        text-align: right;\n",
              "    }\n",
              "</style>\n",
              "<table border=\"1\" class=\"dataframe\">\n",
              "  <thead>\n",
              "    <tr style=\"text-align: right;\">\n",
              "      <th></th>\n",
              "      <th>PG</th>\n",
              "      <th>^GSPC</th>\n",
              "    </tr>\n",
              "  </thead>\n",
              "  <tbody>\n",
              "    <tr>\n",
              "      <th>PG</th>\n",
              "      <td>0.037500</td>\n",
              "      <td>0.022328</td>\n",
              "    </tr>\n",
              "    <tr>\n",
              "      <th>^GSPC</th>\n",
              "      <td>0.022328</td>\n",
              "      <td>0.034901</td>\n",
              "    </tr>\n",
              "  </tbody>\n",
              "</table>\n",
              "</div>"
            ],
            "text/plain": [
              "             PG     ^GSPC\n",
              "PG     0.037500  0.022328\n",
              "^GSPC  0.022328  0.034901"
            ]
          },
          "metadata": {
            "tags": []
          },
          "execution_count": 18
        }
      ]
    },
    {
      "cell_type": "code",
      "metadata": {
        "colab": {
          "base_uri": "https://localhost:8080/"
        },
        "id": "D3M4z5oOjjB1",
        "outputId": "11f4049f-0ff5-4fd7-c298-265522493d21"
      },
      "source": [
        "cov_with_market = cov.iloc[0,1]\r\n",
        "cov_with_market"
      ],
      "execution_count": 19,
      "outputs": [
        {
          "output_type": "execute_result",
          "data": {
            "text/plain": [
              "0.022328309414382273"
            ]
          },
          "metadata": {
            "tags": []
          },
          "execution_count": 19
        }
      ]
    },
    {
      "cell_type": "code",
      "metadata": {
        "colab": {
          "base_uri": "https://localhost:8080/"
        },
        "id": "uDQMpb44j5dk",
        "outputId": "9381a462-444d-4c82-eaa4-d8d7bf73e413"
      },
      "source": [
        "market_var = cov.iloc[1,1]  # == sec_returns['^GSPC'].var() * 250\r\n",
        "market_var"
      ],
      "execution_count": 20,
      "outputs": [
        {
          "output_type": "execute_result",
          "data": {
            "text/plain": [
              "0.034900709086421684"
            ]
          },
          "metadata": {
            "tags": []
          },
          "execution_count": 20
        }
      ]
    },
    {
      "cell_type": "code",
      "metadata": {
        "colab": {
          "base_uri": "https://localhost:8080/"
        },
        "id": "30vddVfWkgP5",
        "outputId": "b7175e10-d868-4ab7-9c4d-4b613d8269b0"
      },
      "source": [
        "PG_beta = cov_with_market / market_var\r\n",
        "PG_beta"
      ],
      "execution_count": 21,
      "outputs": [
        {
          "output_type": "execute_result",
          "data": {
            "text/plain": [
              "0.639766640817886"
            ]
          },
          "metadata": {
            "tags": []
          },
          "execution_count": 21
        }
      ]
    },
    {
      "cell_type": "markdown",
      "metadata": {
        "id": "eCaMv1tQu-ai"
      },
      "source": [
        "## CAPM (Capital Asset Pricing Model)\r\n",
        "A security’s expected return is:\r\n",
        "$$r_i= r_f + \\beta_{im}(r_m- r_f)\\ ,$$\r\n",
        "where: $r_f$ - risk-free asset, $\\beta_{im}$ - beta between the stock and the market, $r_m$ - expected return of the market.\r\n",
        "\r\n",
        "<br/>\r\n",
        "\r\n",
        "$(r_m- r_f)$ - is called Equity Risk Premium.\r\n",
        "\r\n",
        "<br/>\r\n",
        "\r\n",
        "The hypothesis, derived from practice, is the following: the closest risk-free asset we can have is a yield of 10-year goverment bonds. In current example we will use <u>the yield of 10-year goverment bond what is approximately 2.5%</u>\r\n",
        "\r\n",
        "<br/>\r\n",
        "\r\n",
        "Academic research has proven that Market Risk Premium for equity is in the US has been between 4.5% and 5.5%. In practice typically one of this values is used. We will use 5%.\r\n",
        "\r\n",
        "Actual goverment bonds rates you can check here: [Bloomberg](https://www.bloomberg.com/markets/rates-bonds/government-bonds/us), see value for `GT10:GOV` in the `YIELD` column\r\n",
        "\r\n",
        "\r\n",
        "\r\n",
        "\r\n",
        "\r\n",
        "\r\n"
      ]
    },
    {
      "cell_type": "markdown",
      "metadata": {
        "id": "y1MvabeyUGMW"
      },
      "source": [
        "Expected return of the stock (CAPM)"
      ]
    },
    {
      "cell_type": "code",
      "metadata": {
        "colab": {
          "base_uri": "https://localhost:8080/"
        },
        "id": "SGkz3n5eu4gV",
        "outputId": "1d5a2437-6ae5-46ea-bea4-09118205ed95"
      },
      "source": [
        "PG_er = 0.025 + PG_beta * 0.05\r\n",
        "PG_er"
      ],
      "execution_count": 22,
      "outputs": [
        {
          "output_type": "execute_result",
          "data": {
            "text/plain": [
              "0.056988332040894304"
            ]
          },
          "metadata": {
            "tags": []
          },
          "execution_count": 22
        }
      ]
    },
    {
      "cell_type": "markdown",
      "metadata": {
        "id": "4NJvJczhf4b3"
      },
      "source": [
        "Rational investors want to be able to compare stocks in terms of risk-return performance.\r\n",
        "\r\n",
        "\r\n",
        "Sharpe Ratio $=\\frac{r_i - r_f}{\\sigma_i}$ , where $r_f$ - risk-free rate, $r_i$ - rate of return of the stock \"i\", $\\sigma_i$ - std. deviation of the stock \"i\".\r\n",
        "\r\n",
        "Sharpe ratio allows to compare stocks or portfolios."
      ]
    },
    {
      "cell_type": "code",
      "metadata": {
        "colab": {
          "base_uri": "https://localhost:8080/"
        },
        "id": "Ijtwez3imWxo",
        "outputId": "a471b2af-103f-42b0-ac15-204128ca1273"
      },
      "source": [
        "sharpe_ratio = (PG_er - 0.025) / (sec_returns['PG'].std() * 250)\r\n",
        "sharpe_ratio"
      ],
      "execution_count": 26,
      "outputs": [
        {
          "output_type": "execute_result",
          "data": {
            "text/plain": [
              "0.010447327629691616"
            ]
          },
          "metadata": {
            "tags": []
          },
          "execution_count": 26
        }
      ]
    },
    {
      "cell_type": "markdown",
      "metadata": {
        "id": "ZCPtb630oyKu"
      },
      "source": [
        "$r_i= \\alpha+ r_f+ \\beta_{im}(r_m- r_f)$\r\n",
        "\r\n",
        "We can only compare the alpha of investments with a similar risk profile\r\n",
        "\r\n",
        "The standard CAPM assumes an alpha equal to 0.\r\n",
        "\r\n",
        "Alpha allows to measure the performance of portfolio manager. A good portfolio manager outperforms the market and earns a positive alpha."
      ]
    }
  ]
}