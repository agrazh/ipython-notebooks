{
  "nbformat": 4,
  "nbformat_minor": 0,
  "metadata": {
    "colab": {
      "name": "7. Fin-Monte_Carlo-Sholes_formula.ipynb",
      "provenance": [],
      "collapsed_sections": [],
      "authorship_tag": "ABX9TyPNEv0UG7TwQpOBjIIOwzjv"
    },
    "kernelspec": {
      "name": "python3",
      "display_name": "Python 3"
    }
  },
  "cells": [
    {
      "cell_type": "markdown",
      "metadata": {
        "id": "qNzXvyqVfrTg"
      },
      "source": [
        "$C(S,t)= N(d_1)S - N(d_2)Ke^{-r(T-t)}$\r\n",
        "\r\n",
        "$d_1= \\frac{1}{s\\sqrt{T-t}} [\\ln(\\frac{S}{K})+ (r+\\frac{S^2}{2})(T-t)]$\r\n",
        "\r\n",
        "$d_2= d_1- S\\sqrt{T-t}$"
      ]
    },
    {
      "cell_type": "code",
      "metadata": {
        "id": "wEdWP9lyfN8D"
      },
      "source": [
        "import numpy as np\r\n",
        "import pandas as pd\r\n",
        "from pandas_datareader import data as wb\r\n",
        "from scipy.stats import norm"
      ],
      "execution_count": 19,
      "outputs": []
    },
    {
      "cell_type": "markdown",
      "metadata": {
        "id": "6TK24Wv5hfz5"
      },
      "source": [
        "$d_1= \\frac{\\ln(\\frac{S}{K})+(r+ \\frac{{stdev}^2}{2})t}{s\\sqrt{t}}$\r\n",
        "\r\n",
        "$d_2= d_1- s\\sqrt{t}= \\frac{\\ln(\\frac{S}{K})+(r- \\frac{{stdev}^2}{2})t}{s\\sqrt{t}}$\r\n",
        "\r\n",
        "where $S$ - stock price, $K$ - strike price, $r$ - risk-free rate, $stdev$ - standard deviation, $T$ - time horizon (years).\r\n",
        "\r\n",
        "$C(S,t)= SN(d_1) - Ke^{-rt}N(d_2)$"
      ]
    },
    {
      "cell_type": "code",
      "metadata": {
        "id": "YEeT61GAg7Q7"
      },
      "source": [
        "def d1(S, K, r, stdev, T):\r\n",
        "    return (np.log(S/K) + (r + stdev**2 / 2) * T) / (stdev * np.sqrt(T))\r\n",
        "\r\n",
        "def d2(S, K, r, stdev, T):\r\n",
        "    return (np.log(S/K) + (r - stdev**2 / 2) * T) / (stdev * np.sqrt(T))"
      ],
      "execution_count": 20,
      "outputs": []
    },
    {
      "cell_type": "markdown",
      "metadata": {
        "id": "MifIM4nkjp5m"
      },
      "source": [
        "We need a cumulative normal distribution. Cumulative Distribution Function shows how data accumulates in time. Resulting values are in $[0,1]$. It shows what portion of values lies below the specified value."
      ]
    },
    {
      "cell_type": "code",
      "metadata": {
        "colab": {
          "base_uri": "https://localhost:8080/"
        },
        "id": "DKXgExyZjt-h",
        "outputId": "68ec1719-5004-4bcb-8de2-e0c5451a5849"
      },
      "source": [
        "print(norm.cdf(0))\r\n",
        "print(norm.cdf(0.5))\r\n",
        "print(norm.cdf(0.9))"
      ],
      "execution_count": 21,
      "outputs": [
        {
          "output_type": "stream",
          "text": [
            "0.5\n",
            "0.6914624612740131\n",
            "0.8159398746532405\n"
          ],
          "name": "stdout"
        }
      ]
    },
    {
      "cell_type": "code",
      "metadata": {
        "id": "e8cH70LHne3V"
      },
      "source": [
        "def BSM(S, K, r, stdev, T):\r\n",
        "    return (S * norm.cdf(d1(S, K, r, stdev, T))) - (K * np.exp(-r * T) * norm.cdf(d2(S, K, r, stdev, T)))"
      ],
      "execution_count": 22,
      "outputs": []
    },
    {
      "cell_type": "code",
      "metadata": {
        "id": "0xIO3id_oKxw"
      },
      "source": [
        "ticker = 'PG'\r\n",
        "data = pd.DataFrame()\r\n",
        "data[ticker] = wb.DataReader(ticker, data_source='yahoo', start='2011-1-1', end='2021-3-8')['Adj Close']"
      ],
      "execution_count": 23,
      "outputs": []
    },
    {
      "cell_type": "code",
      "metadata": {
        "colab": {
          "base_uri": "https://localhost:8080/"
        },
        "id": "gnblFNF8sXH9",
        "outputId": "30cf5004-5393-49da-d499-3e3a0d1a605e"
      },
      "source": [
        "S = data.iloc[-1]\r\n",
        "S"
      ],
      "execution_count": 24,
      "outputs": [
        {
          "output_type": "execute_result",
          "data": {
            "text/plain": [
              "PG    125.980003\n",
              "Name: 2021-03-05 00:00:00, dtype: float64"
            ]
          },
          "metadata": {
            "tags": []
          },
          "execution_count": 24
        }
      ]
    },
    {
      "cell_type": "code",
      "metadata": {
        "colab": {
          "base_uri": "https://localhost:8080/"
        },
        "id": "-utHYPbzsrar",
        "outputId": "cde9bd5c-a2b8-487a-f3af-a9378ffa5dd7"
      },
      "source": [
        "log_returns = np.log(1 + data.pct_change())\r\n",
        "stdev = log_returns.std() * 250 ** 0.5\r\n",
        "stdev"
      ],
      "execution_count": 25,
      "outputs": [
        {
          "output_type": "execute_result",
          "data": {
            "text/plain": [
              "PG    0.174309\n",
              "dtype: float64"
            ]
          },
          "metadata": {
            "tags": []
          },
          "execution_count": 25
        }
      ]
    },
    {
      "cell_type": "code",
      "metadata": {
        "id": "VnaStAN9yvlO"
      },
      "source": [
        "r = 0.025  # 2.5% is the yield of 10 year government bond\r\n",
        "K = 110.0\r\n",
        "T = 1"
      ],
      "execution_count": 26,
      "outputs": []
    },
    {
      "cell_type": "code",
      "metadata": {
        "colab": {
          "base_uri": "https://localhost:8080/"
        },
        "id": "dLGTA2nDzAT7",
        "outputId": "7e72d059-d7c0-48b6-e8ae-578e291a1780"
      },
      "source": [
        "# Call option price\r\n",
        "BSM(S, K, r, stdev, T)"
      ],
      "execution_count": 29,
      "outputs": [
        {
          "output_type": "execute_result",
          "data": {
            "text/plain": [
              "PG    20.647217\n",
              "Name: 2021-03-05 00:00:00, dtype: float64"
            ]
          },
          "metadata": {
            "tags": []
          },
          "execution_count": 29
        }
      ]
    },
    {
      "cell_type": "markdown",
      "metadata": {
        "id": "snff7mKQ0fP8"
      },
      "source": [
        "Call option price is much lower than a stock price:"
      ]
    },
    {
      "cell_type": "code",
      "metadata": {
        "colab": {
          "base_uri": "https://localhost:8080/"
        },
        "id": "q_VCR0_Z0nZY",
        "outputId": "fd7d6858-3a5e-4dcb-894d-4e8fedafb64a"
      },
      "source": [
        "print(BSM(S, K, r, stdev, T))\r\n",
        "print(S)"
      ],
      "execution_count": 31,
      "outputs": [
        {
          "output_type": "stream",
          "text": [
            "PG    20.647217\n",
            "Name: 2021-03-05 00:00:00, dtype: float64\n",
            "PG    125.980003\n",
            "Name: 2021-03-05 00:00:00, dtype: float64\n"
          ],
          "name": "stdout"
        }
      ]
    }
  ]
}