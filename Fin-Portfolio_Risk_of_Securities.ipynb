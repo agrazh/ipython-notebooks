{
  "nbformat": 4,
  "nbformat_minor": 0,
  "metadata": {
    "colab": {
      "name": "Fin-Portfolio-Risk_of_Securities.ipynb",
      "provenance": [],
      "collapsed_sections": [
        "xWVx1RfMKYvV"
      ],
      "authorship_tag": "ABX9TyPrpJ8WvkBHQJeYwK7Q9M+G",
      "include_colab_link": true
    },
    "kernelspec": {
      "name": "python3",
      "display_name": "Python 3"
    }
  },
  "cells": [
    {
      "cell_type": "markdown",
      "metadata": {
        "id": "view-in-github",
        "colab_type": "text"
      },
      "source": [
        "<a href=\"https://colab.research.google.com/github/agrazh/ipython-notebooks/blob/main/Fin-Portfolio_Risk_of_Securities.ipynb\" target=\"_parent\"><img src=\"https://colab.research.google.com/assets/colab-badge.svg\" alt=\"Open In Colab\"/></a>"
      ]
    },
    {
      "cell_type": "code",
      "metadata": {
        "id": "CdUcJKJP6dBP"
      },
      "source": [
        "import numpy as np\r\n",
        "import pandas as pd\r\n",
        "from pandas_datareader import data as wb\r\n",
        "import matplotlib.pyplot as plt"
      ],
      "execution_count": 2,
      "outputs": []
    },
    {
      "cell_type": "code",
      "metadata": {
        "id": "o1dqJCQA6w5Y"
      },
      "source": [
        "tickers = ['PG', 'BEI.DE']\r\n",
        "sec_prices = pd.DataFrame()\r\n",
        "for t in tickers:\r\n",
        "    sec_prices[t] = wb.DataReader(t, data_source='yahoo', start='2011-1-1')['Adj Close']"
      ],
      "execution_count": 7,
      "outputs": []
    },
    {
      "cell_type": "code",
      "metadata": {
        "id": "SPurXJpn7gmV"
      },
      "source": [
        "# getting Log Return\r\n",
        "sec_returns = np.log(sec_prices / sec_prices.shift(1))"
      ],
      "execution_count": 8,
      "outputs": []
    },
    {
      "cell_type": "markdown",
      "metadata": {
        "id": "MI5erEMDJ4gn"
      },
      "source": [
        "## Variance and standard deviation as risk measures"
      ]
    },
    {
      "cell_type": "markdown",
      "metadata": {
        "id": "bRDu5Z489g0H"
      },
      "source": [
        "Variance (dispersion): $s^2=\\frac{\\sum(x_i - \\overline{x})^2}{N-1}$, where $x_i$ - elements of the sample, $\\overline{x}$ - sample mean value, $N$ - the number of elements in the sample.\r\n",
        "\r\n",
        "Standard deviation: $\\sigma = \\sqrt{s^2}$\r\n",
        "\r\n",
        "Annualized variance: $s^2 * 250$\r\n",
        "\r\n",
        "Annualized standard deviation: $\\sqrt{s^2 * 250} = \\sigma*\\sqrt{250}$\r\n",
        "\r\n",
        "Into the risks you have to include industry growth, revenue, profitability, regulatory environment."
      ]
    },
    {
      "cell_type": "code",
      "metadata": {
        "id": "lLRWUe7Aj8L2"
      },
      "source": [
        "sec_returns[['PG', 'BEI.DE']].std()"
      ],
      "execution_count": null,
      "outputs": []
    },
    {
      "cell_type": "code",
      "metadata": {
        "colab": {
          "base_uri": "https://localhost:8080/"
        },
        "id": "lDuUYBa175gl",
        "outputId": "30887498-285a-499b-a475-22fcdbcdce47"
      },
      "source": [
        "# Annualized avarage Log Return\r\n",
        "sec_returns[['PG', 'BEI.DE']].mean() * 250\r\n",
        "# Annuazlized standard deviation of Log Return\r\n",
        "sec_returns[['PG', 'BEI.DE']].std() * 250 ** 0.5"
      ],
      "execution_count": 28,
      "outputs": [
        {
          "output_type": "execute_result",
          "data": {
            "text/plain": [
              "PG        0.174197\n",
              "BEI.DE    0.193958\n",
              "dtype: float64"
            ]
          },
          "metadata": {
            "tags": []
          },
          "execution_count": 28
        }
      ]
    },
    {
      "cell_type": "markdown",
      "metadata": {
        "id": "xWVx1RfMKYvV"
      },
      "source": [
        "## Correlation between stocks"
      ]
    },
    {
      "cell_type": "markdown",
      "metadata": {
        "id": "LqNrNQkeEd6J"
      },
      "source": [
        "Covariance: $cov_{x,y}= \\frac{\\sum(x_i-\\overline{x})(y_i-\\overline{y})}{N-1}$, where $N$ - number of observations $(x_i, y_i)$.\r\n",
        "\r\n",
        "One may perceive covariance as a measure of the variance of some sample where each observation consists of 2 (or more) variables.\r\n",
        "\r\n",
        "<br/>\r\n",
        "\r\n",
        "Correlation: $\\rho_{xy}= \\frac{\\sum(x_i-\\overline{x})(y_i-\\overline{y})}{\\sqrt{\\sum(x_i-\\overline{x})^2\\sum(y_i-\\overline{y})^2}} = \\frac{cov_{x,y}}{\\sigma_x \\sigma_y}$.\r\n",
        "\r\n",
        "$\\rho_{xy}\\in[-1,1]$ and tell how strong is the relation between two variables. The relation, by itself, usually is not direct and not obvious. \r\n",
        "\r\n",
        "<br/>\r\n",
        "\r\n",
        "Covariance matrix (for 3 variables 1 vs 2 vs 3):\r\n",
        "$\\begin{bmatrix}\r\n",
        "cov_{1,1} & cov_{1,2} & cov_{1,3}\\\\\r\n",
        "cov_{2,1} & cov_{2,2} & cov_{2,3}\\\\\r\n",
        "cov_{3,1} & cov_{3,2} & cov_{3,3}\r\n",
        "\\end{bmatrix}$ =\r\n",
        "$\\begin{bmatrix}\r\n",
        "\\sigma_1^2 & cov_{1,2} & cov_{1,3}\\\\\r\n",
        "cov_{2,1} & \\sigma_2^2 & cov_{2,3}\\\\\r\n",
        "cov_{3,1} & cov_{3,2} & \\sigma_3^2\r\n",
        "\\end{bmatrix}$,\r\n",
        "\r\n",
        "where symmetrical values are equal (e.g. $cov_{2,1}=cov_{1,2}$)."
      ]
    },
    {
      "cell_type": "code",
      "metadata": {
        "id": "WKIjQzOk8aqP"
      },
      "source": [
        "# PG_var = sec_returns['PG'].var()\r\n",
        "# PG_var_ann = sec_returns['PG'].var() * 250\r\n",
        "# PG_var_ann"
      ],
      "execution_count": null,
      "outputs": []
    },
    {
      "cell_type": "code",
      "metadata": {
        "colab": {
          "base_uri": "https://localhost:8080/",
          "height": 112
        },
        "id": "fXjomE6gC7D4",
        "outputId": "85dc9aa1-f196-46c7-f0bb-ec1a297f3bb3"
      },
      "source": [
        "# Annualized covariance matrix\r\n",
        "sec_returns[['PG', 'BEI.DE']].cov() * 250"
      ],
      "execution_count": 21,
      "outputs": [
        {
          "output_type": "execute_result",
          "data": {
            "text/html": [
              "<div>\n",
              "<style scoped>\n",
              "    .dataframe tbody tr th:only-of-type {\n",
              "        vertical-align: middle;\n",
              "    }\n",
              "\n",
              "    .dataframe tbody tr th {\n",
              "        vertical-align: top;\n",
              "    }\n",
              "\n",
              "    .dataframe thead th {\n",
              "        text-align: right;\n",
              "    }\n",
              "</style>\n",
              "<table border=\"1\" class=\"dataframe\">\n",
              "  <thead>\n",
              "    <tr style=\"text-align: right;\">\n",
              "      <th></th>\n",
              "      <th>PG</th>\n",
              "      <th>BEI.DE</th>\n",
              "    </tr>\n",
              "  </thead>\n",
              "  <tbody>\n",
              "    <tr>\n",
              "      <th>PG</th>\n",
              "      <td>0.030345</td>\n",
              "      <td>0.009332</td>\n",
              "    </tr>\n",
              "    <tr>\n",
              "      <th>BEI.DE</th>\n",
              "      <td>0.009332</td>\n",
              "      <td>0.037620</td>\n",
              "    </tr>\n",
              "  </tbody>\n",
              "</table>\n",
              "</div>"
            ],
            "text/plain": [
              "              PG    BEI.DE\n",
              "PG      0.030345  0.009332\n",
              "BEI.DE  0.009332  0.037620"
            ]
          },
          "metadata": {
            "tags": []
          },
          "execution_count": 21
        }
      ]
    },
    {
      "cell_type": "code",
      "metadata": {
        "colab": {
          "base_uri": "https://localhost:8080/",
          "height": 112
        },
        "id": "A5egoQ0CU3yM",
        "outputId": "f473c061-a9ad-4c65-d119-0a871f7e32ee"
      },
      "source": [
        "sec_returns.corr()"
      ],
      "execution_count": 24,
      "outputs": [
        {
          "output_type": "execute_result",
          "data": {
            "text/html": [
              "<div>\n",
              "<style scoped>\n",
              "    .dataframe tbody tr th:only-of-type {\n",
              "        vertical-align: middle;\n",
              "    }\n",
              "\n",
              "    .dataframe tbody tr th {\n",
              "        vertical-align: top;\n",
              "    }\n",
              "\n",
              "    .dataframe thead th {\n",
              "        text-align: right;\n",
              "    }\n",
              "</style>\n",
              "<table border=\"1\" class=\"dataframe\">\n",
              "  <thead>\n",
              "    <tr style=\"text-align: right;\">\n",
              "      <th></th>\n",
              "      <th>PG</th>\n",
              "      <th>BEI.DE</th>\n",
              "    </tr>\n",
              "  </thead>\n",
              "  <tbody>\n",
              "    <tr>\n",
              "      <th>PG</th>\n",
              "      <td>1.000000</td>\n",
              "      <td>0.276399</td>\n",
              "    </tr>\n",
              "    <tr>\n",
              "      <th>BEI.DE</th>\n",
              "      <td>0.276399</td>\n",
              "      <td>1.000000</td>\n",
              "    </tr>\n",
              "  </tbody>\n",
              "</table>\n",
              "</div>"
            ],
            "text/plain": [
              "              PG    BEI.DE\n",
              "PG      1.000000  0.276399\n",
              "BEI.DE  0.276399  1.000000"
            ]
          },
          "metadata": {
            "tags": []
          },
          "execution_count": 24
        }
      ]
    },
    {
      "cell_type": "markdown",
      "metadata": {
        "id": "Q68-bCwwVgzK"
      },
      "source": [
        "We consider `corr(returns)` as it focuses on the returns of the portfolio, when `corr(prices)` focuses just on stock price levels."
      ]
    },
    {
      "cell_type": "markdown",
      "metadata": {
        "id": "EJQxCMhPY_nI"
      },
      "source": [
        "## Portfolio variance and volatility\r\n",
        "\r\n",
        "Portfolio variance (2 stocks): $(\\omega_1\\sigma_1+ \\omega_2\\sigma_2)^2= \\omega_1^2\\sigma_1^2+ \\omega_2^2\\sigma_2^2+ 2\\omega_1\\sigma_1 \\omega_2\\sigma_2 \\rho_{12}= \\omega_1^2\\sigma_1^2+ \\omega_2^2\\sigma_2^2+ 2\\omega_1\\omega_2*cov_{12}$,\r\n",
        "\r\n",
        "where $\\omega_1 + \\omega_2 = 1$."
      ]
    },
    {
      "cell_type": "markdown",
      "metadata": {
        "id": "aGX9wMdzfMkp"
      },
      "source": [
        "Equal weigthing scheme"
      ]
    },
    {
      "cell_type": "code",
      "metadata": {
        "id": "03VPX0HEfEfU"
      },
      "source": [
        "weights = np.array([0.5, 0.5])"
      ],
      "execution_count": 26,
      "outputs": []
    },
    {
      "cell_type": "markdown",
      "metadata": {
        "id": "tMaE9Bxhfc0g"
      },
      "source": [
        "### Portfolio variance"
      ]
    },
    {
      "cell_type": "markdown",
      "metadata": {
        "id": "T54Mhsd9gNiI"
      },
      "source": [
        "In case of numbers: $(ab)^2= a^2b^2$\r\n",
        "\r\n",
        "In case of vectors and matrices: $(w*{Cov})^2= w^T*{Cov}*w= [w_1, w_2] * \\begin{bmatrix}\r\n",
        "\\sigma_1^2 & cov_{1,2}\\\\\r\n",
        "cov_{2,1} & \\sigma_2^2\r\n",
        "\\end{bmatrix} *\r\n",
        "\\begin{bmatrix}\r\n",
        "\\omega_1\\\\\r\n",
        "\\omega_2\r\n",
        "\\end{bmatrix}$"
      ]
    },
    {
      "cell_type": "code",
      "metadata": {
        "colab": {
          "base_uri": "https://localhost:8080/"
        },
        "id": "yceh-D4_fibc",
        "outputId": "28eb757b-b096-4f34-aae2-362b108f778a"
      },
      "source": [
        "pfolio_var = np.dot(weights.T, np.dot(sec_returns.cov() * 250, weights))\r\n",
        "pfolio_var"
      ],
      "execution_count": 27,
      "outputs": [
        {
          "output_type": "execute_result",
          "data": {
            "text/plain": [
              "0.021656989266181433"
            ]
          },
          "metadata": {
            "tags": []
          },
          "execution_count": 27
        }
      ]
    },
    {
      "cell_type": "markdown",
      "metadata": {
        "id": "S2Pb1bM66wUs"
      },
      "source": [
        "### Portfolio volatility\r\n",
        "\r\n",
        " ${volatility}= \\sqrt{varianace}$ "
      ]
    },
    {
      "cell_type": "code",
      "metadata": {
        "colab": {
          "base_uri": "https://localhost:8080/"
        },
        "id": "94RCJu0VjeSy",
        "outputId": "2a091d61-3652-4ec1-9077-3c6b4ec52652"
      },
      "source": [
        "pfolio_vol = (np.dot(weights.T, np.dot(sec_returns.cov() * 250, weights))) ** 0.5\r\n",
        "pfolio_vol"
      ],
      "execution_count": 30,
      "outputs": [
        {
          "output_type": "execute_result",
          "data": {
            "text/plain": [
              "0.14716313827239969"
            ]
          },
          "metadata": {
            "tags": []
          },
          "execution_count": 30
        }
      ]
    },
    {
      "cell_type": "markdown",
      "metadata": {
        "id": "QtTHDogaGzwh"
      },
      "source": [
        "## Fin"
      ]
    }
  ]
}