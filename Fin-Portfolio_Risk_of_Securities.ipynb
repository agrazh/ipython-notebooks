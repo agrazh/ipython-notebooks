{
  "nbformat": 4,
  "nbformat_minor": 0,
  "metadata": {
    "colab": {
      "name": "2. Fin-Portfolio-Risk_of_Securities.ipynb",
      "provenance": [],
      "collapsed_sections": [],
      "authorship_tag": "ABX9TyNQBX8Pq0WiPJfib96Czw5y"
    },
    "kernelspec": {
      "name": "python3",
      "display_name": "Python 3"
    }
  },
  "cells": [
    {
      "cell_type": "code",
      "metadata": {
        "id": "CdUcJKJP6dBP"
      },
      "source": [
        "import numpy as np\r\n",
        "import pandas as pd\r\n",
        "from pandas_datareader import data as wb\r\n",
        "import matplotlib.pyplot as plt"
      ],
      "execution_count": null,
      "outputs": []
    },
    {
      "cell_type": "code",
      "metadata": {
        "id": "o1dqJCQA6w5Y"
      },
      "source": [
        "tickers = ['PG', 'BEI.DE']\r\n",
        "sec_prices = pd.DataFrame()\r\n",
        "for t in tickers:\r\n",
        "    sec_prices[t] = wb.DataReader(t, data_source='yahoo', start='2011-1-1')['Adj Close']"
      ],
      "execution_count": null,
      "outputs": []
    },
    {
      "cell_type": "code",
      "metadata": {
        "id": "hy6yFjMWy9KX"
      },
      "source": [
        "# # In case of API slow responces \r\n",
        "# sec_prices = pd.DataFrame()\r\n",
        "# sec_prices['PG'] = wb.DataReader('PG', data_source='yahoo', start='2011-1-1')['Adj Close']\r\n",
        "# sec_prices['BEI.DE'] = wb.DataReader('BEI.DE', data_source='yahoo', start='2011-1-1')['Adj Close']"
      ],
      "execution_count": null,
      "outputs": []
    },
    {
      "cell_type": "code",
      "metadata": {
        "id": "SPurXJpn7gmV"
      },
      "source": [
        "# getting Log Return\r\n",
        "sec_returns = np.log(sec_prices / sec_prices.shift(1))"
      ],
      "execution_count": null,
      "outputs": []
    },
    {
      "cell_type": "markdown",
      "metadata": {
        "id": "MI5erEMDJ4gn"
      },
      "source": [
        "## Variance and standard deviation as risk measures"
      ]
    },
    {
      "cell_type": "markdown",
      "metadata": {
        "id": "bRDu5Z489g0H"
      },
      "source": [
        "Variance (dispersion): $s^2=\\frac{\\sum(x_i - \\overline{x})^2}{N-1}$, where $x_i$ - elements of the sample, $\\overline{x}$ - sample mean value, $N$ - the number of elements in the sample.\r\n",
        "\r\n",
        "Standard deviation: $\\sigma = \\sqrt{s^2}$\r\n",
        "\r\n",
        "Annualized variance: $s^2 * 250$\r\n",
        "\r\n",
        "Annualized standard deviation: $\\sqrt{s^2 * 250} = \\sigma*\\sqrt{250}$\r\n",
        "\r\n",
        "Into the risks you have to include industry growth, revenue, profitability, regulatory environment."
      ]
    },
    {
      "cell_type": "code",
      "metadata": {
        "id": "lLRWUe7Aj8L2",
        "colab": {
          "base_uri": "https://localhost:8080/"
        },
        "outputId": "f539532b-ac33-47a4-bc9c-443afe364667"
      },
      "source": [
        "# Annualized avarage Log Return\r\n",
        "sec_returns[['PG', 'BEI.DE']].mean() * 250"
      ],
      "execution_count": null,
      "outputs": [
        {
          "output_type": "execute_result",
          "data": {
            "text/plain": [
              "PG        0.098101\n",
              "BEI.DE    0.094423\n",
              "dtype: float64"
            ]
          },
          "metadata": {
            "tags": []
          },
          "execution_count": 36
        }
      ]
    },
    {
      "cell_type": "code",
      "metadata": {
        "colab": {
          "base_uri": "https://localhost:8080/"
        },
        "id": "lDuUYBa175gl",
        "outputId": "895eb32e-32ec-4b9f-db00-95202fba8746"
      },
      "source": [
        "# Annuazlized standard deviation of Log Return\r\n",
        "sec_returns[['PG', 'BEI.DE']].std() * 250 ** 0.5"
      ],
      "execution_count": null,
      "outputs": [
        {
          "output_type": "execute_result",
          "data": {
            "text/plain": [
              "PG        0.174198\n",
              "BEI.DE    0.193958\n",
              "dtype: float64"
            ]
          },
          "metadata": {
            "tags": []
          },
          "execution_count": 37
        }
      ]
    },
    {
      "cell_type": "markdown",
      "metadata": {
        "id": "xWVx1RfMKYvV"
      },
      "source": [
        "## Correlation between stocks"
      ]
    },
    {
      "cell_type": "markdown",
      "metadata": {
        "id": "LqNrNQkeEd6J"
      },
      "source": [
        "Covariance: $cov_{x,y}= \\frac{\\sum(x_i-\\overline{x})(y_i-\\overline{y})}{N-1}$, where $N$ - number of observations $(x_i, y_i)$. Also you may meet denotation $\\rho_{x,y} := cov_{x,y}$.\r\n",
        "\r\n",
        "One may perceive covariance as a measure of the variance of some sample where each observation consists of 2 (or more) variables.\r\n",
        "\r\n",
        "<br/>\r\n",
        "\r\n",
        "Correlation (Pearson's correlation coefficient): $r_{xy}= \\frac{\\sum(x_i-\\overline{x})(y_i-\\overline{y})}{\\sqrt{\\sum(x_i-\\overline{x})^2\\sum(y_i-\\overline{y})^2}} = \\frac{cov_{x,y}}{\\sigma_x \\sigma_y}$.\r\n",
        "\r\n",
        "$r_{xy}\\in[-1,1]$ and tell how strong is the relation between two variables. The relation, by itself, usually is not direct and not obvious. \r\n",
        "\r\n",
        "<br/>\r\n",
        "\r\n",
        "Covariance matrix (for 3 variables 1 vs 2 vs 3):\r\n",
        "$\\begin{bmatrix}\r\n",
        "cov_{1,1} & cov_{1,2} & cov_{1,3}\\\\\r\n",
        "cov_{2,1} & cov_{2,2} & cov_{2,3}\\\\\r\n",
        "cov_{3,1} & cov_{3,2} & cov_{3,3}\r\n",
        "\\end{bmatrix}$ =\r\n",
        "$\\begin{bmatrix}\r\n",
        "\\sigma_1^2 & cov_{1,2} & cov_{1,3}\\\\\r\n",
        "cov_{2,1} & \\sigma_2^2 & cov_{2,3}\\\\\r\n",
        "cov_{3,1} & cov_{3,2} & \\sigma_3^2\r\n",
        "\\end{bmatrix}$,\r\n",
        "\r\n",
        "where symmetrical values are equal (e.g. $cov_{2,1}=cov_{1,2}$)."
      ]
    },
    {
      "cell_type": "code",
      "metadata": {
        "id": "WKIjQzOk8aqP"
      },
      "source": [
        "# PG_var = sec_returns['PG'].var()\r\n",
        "# PG_var_ann = sec_returns['PG'].var() * 250\r\n",
        "# PG_var_ann"
      ],
      "execution_count": null,
      "outputs": []
    },
    {
      "cell_type": "code",
      "metadata": {
        "colab": {
          "base_uri": "https://localhost:8080/",
          "height": 112
        },
        "id": "fXjomE6gC7D4",
        "outputId": "bc7a77e7-9edd-4d30-9495-021a7e16649b"
      },
      "source": [
        "# Annualized covariance matrix\r\n",
        "sec_returns[['PG', 'BEI.DE']].cov() * 250"
      ],
      "execution_count": null,
      "outputs": [
        {
          "output_type": "execute_result",
          "data": {
            "text/html": [
              "<div>\n",
              "<style scoped>\n",
              "    .dataframe tbody tr th:only-of-type {\n",
              "        vertical-align: middle;\n",
              "    }\n",
              "\n",
              "    .dataframe tbody tr th {\n",
              "        vertical-align: top;\n",
              "    }\n",
              "\n",
              "    .dataframe thead th {\n",
              "        text-align: right;\n",
              "    }\n",
              "</style>\n",
              "<table border=\"1\" class=\"dataframe\">\n",
              "  <thead>\n",
              "    <tr style=\"text-align: right;\">\n",
              "      <th></th>\n",
              "      <th>PG</th>\n",
              "      <th>BEI.DE</th>\n",
              "    </tr>\n",
              "  </thead>\n",
              "  <tbody>\n",
              "    <tr>\n",
              "      <th>PG</th>\n",
              "      <td>0.030345</td>\n",
              "      <td>0.009332</td>\n",
              "    </tr>\n",
              "    <tr>\n",
              "      <th>BEI.DE</th>\n",
              "      <td>0.009332</td>\n",
              "      <td>0.037620</td>\n",
              "    </tr>\n",
              "  </tbody>\n",
              "</table>\n",
              "</div>"
            ],
            "text/plain": [
              "              PG    BEI.DE\n",
              "PG      0.030345  0.009332\n",
              "BEI.DE  0.009332  0.037620"
            ]
          },
          "metadata": {
            "tags": []
          },
          "execution_count": 30
        }
      ]
    },
    {
      "cell_type": "code",
      "metadata": {
        "colab": {
          "base_uri": "https://localhost:8080/",
          "height": 112
        },
        "id": "A5egoQ0CU3yM",
        "outputId": "6ae05e94-2c18-4836-9608-353cdad8337c"
      },
      "source": [
        "# Correlation between two stocks\r\n",
        "sec_returns.corr()"
      ],
      "execution_count": null,
      "outputs": [
        {
          "output_type": "execute_result",
          "data": {
            "text/html": [
              "<div>\n",
              "<style scoped>\n",
              "    .dataframe tbody tr th:only-of-type {\n",
              "        vertical-align: middle;\n",
              "    }\n",
              "\n",
              "    .dataframe tbody tr th {\n",
              "        vertical-align: top;\n",
              "    }\n",
              "\n",
              "    .dataframe thead th {\n",
              "        text-align: right;\n",
              "    }\n",
              "</style>\n",
              "<table border=\"1\" class=\"dataframe\">\n",
              "  <thead>\n",
              "    <tr style=\"text-align: right;\">\n",
              "      <th></th>\n",
              "      <th>PG</th>\n",
              "      <th>BEI.DE</th>\n",
              "    </tr>\n",
              "  </thead>\n",
              "  <tbody>\n",
              "    <tr>\n",
              "      <th>PG</th>\n",
              "      <td>1.000000</td>\n",
              "      <td>0.276399</td>\n",
              "    </tr>\n",
              "    <tr>\n",
              "      <th>BEI.DE</th>\n",
              "      <td>0.276399</td>\n",
              "      <td>1.000000</td>\n",
              "    </tr>\n",
              "  </tbody>\n",
              "</table>\n",
              "</div>"
            ],
            "text/plain": [
              "              PG    BEI.DE\n",
              "PG      1.000000  0.276399\n",
              "BEI.DE  0.276399  1.000000"
            ]
          },
          "metadata": {
            "tags": []
          },
          "execution_count": 31
        }
      ]
    },
    {
      "cell_type": "markdown",
      "metadata": {
        "id": "Q68-bCwwVgzK"
      },
      "source": [
        "We consider `corr(returns)` as it focuses on the returns of the portfolio, when `corr(prices)` focuses just on stock price levels."
      ]
    },
    {
      "cell_type": "markdown",
      "metadata": {
        "id": "EJQxCMhPY_nI"
      },
      "source": [
        "## Portfolio variance and volatility\r\n",
        "\r\n",
        "Portfolio variance (2 stocks): $(\\omega_1\\sigma_1+ \\omega_2\\sigma_2)^2= \\omega_1^2\\sigma_1^2+ \\omega_2^2\\sigma_2^2+ 2\\omega_1\\sigma_1 \\omega_2\\sigma_2 \\rho_{12}= \\omega_1^2\\sigma_1^2+ \\omega_2^2\\sigma_2^2+ 2\\omega_1\\omega_2*cov_{12}$,\r\n",
        "\r\n",
        "where $\\omega_1 + \\omega_2 = 1$."
      ]
    },
    {
      "cell_type": "markdown",
      "metadata": {
        "id": "aGX9wMdzfMkp"
      },
      "source": [
        "Equal weigthing scheme"
      ]
    },
    {
      "cell_type": "code",
      "metadata": {
        "id": "03VPX0HEfEfU"
      },
      "source": [
        "weights = np.array([0.5, 0.5])"
      ],
      "execution_count": null,
      "outputs": []
    },
    {
      "cell_type": "markdown",
      "metadata": {
        "id": "tMaE9Bxhfc0g"
      },
      "source": [
        "### Portfolio variance"
      ]
    },
    {
      "cell_type": "markdown",
      "metadata": {
        "id": "T54Mhsd9gNiI"
      },
      "source": [
        "In case of numbers: $(ab)^2= a^2b^2$\r\n",
        "\r\n",
        "In case of vectors and matrices: $(w*{Cov})^2= w^T*{Cov}*w= [w_1, w_2] * \\begin{bmatrix}\r\n",
        "\\sigma_1^2 & cov_{1,2}\\\\\r\n",
        "cov_{2,1} & \\sigma_2^2\r\n",
        "\\end{bmatrix} *\r\n",
        "\\begin{bmatrix}\r\n",
        "\\omega_1\\\\\r\n",
        "\\omega_2\r\n",
        "\\end{bmatrix}$"
      ]
    },
    {
      "cell_type": "code",
      "metadata": {
        "colab": {
          "base_uri": "https://localhost:8080/"
        },
        "id": "yceh-D4_fibc",
        "outputId": "19ea4435-2284-4eb0-abc6-34c36b935027"
      },
      "source": [
        "pfolio_var = np.dot(weights.T, np.dot(sec_returns.cov() * 250, weights))\r\n",
        "pfolio_var"
      ],
      "execution_count": null,
      "outputs": [
        {
          "output_type": "execute_result",
          "data": {
            "text/plain": [
              "0.021657063038074756"
            ]
          },
          "metadata": {
            "tags": []
          },
          "execution_count": 33
        }
      ]
    },
    {
      "cell_type": "markdown",
      "metadata": {
        "id": "S2Pb1bM66wUs"
      },
      "source": [
        "### Portfolio volatility\r\n",
        "\r\n",
        " ${volatility}= \\sqrt{varianace}$ "
      ]
    },
    {
      "cell_type": "code",
      "metadata": {
        "colab": {
          "base_uri": "https://localhost:8080/"
        },
        "id": "94RCJu0VjeSy",
        "outputId": "d0d028d9-4f82-49e4-adef-f938d268f590"
      },
      "source": [
        "pfolio_vol = (np.dot(weights.T, np.dot(sec_returns.cov() * 250, weights))) ** 0.5\r\n",
        "pfolio_vol"
      ],
      "execution_count": null,
      "outputs": [
        {
          "output_type": "execute_result",
          "data": {
            "text/plain": [
              "0.1471633889188298"
            ]
          },
          "metadata": {
            "tags": []
          },
          "execution_count": 34
        }
      ]
    },
    {
      "cell_type": "markdown",
      "metadata": {
        "id": "dw5NNb9dko0_"
      },
      "source": [
        "## Systematic & non-systematic risks (idiosyncratic)\r\n",
        "\r\n",
        "<u>Systemtaic risk</u> - is the uncertainty that is characteristic of the entire market.\r\n",
        "Systematic risk is made of the day to day changes in stock prices and is\r\n",
        "caused by events that affect all companies (e.g. recession of the economy, low customer spending, wars, forces of nature).\r\n",
        "\r\n",
        "Systemtaic risks are considered to be un-diversifieble.\r\n",
        "\r\n",
        "<u>Unsystematic risk</u> - is company-specific, industry-specific, risks that can be smoothed out through diversification. It can be eliminated by investing in non/low-correlated assets (e.g. automotive + construction + energy + technology). Investment traking indices (e.g. S&P 500) are well diversified. \r\n",
        "\r\n",
        "Unsystematic risks are considered to be diversifiable.\r\n"
      ]
    },
    {
      "cell_type": "markdown",
      "metadata": {
        "id": "FbM7ARAEoLSZ"
      },
      "source": [
        "### Evaluation of diversifieble and undiversifieble risks of portfolio\r\n",
        "\r\n",
        "`diversifiable_risk` = `annual_portfolio_variance` - `wighted_annual_variances_of_each_stock`\r\n",
        "\r\n",
        "$2\\omega_1\\omega_2*cov_{12} = (\\omega_1\\sigma_1+ \\omega_2\\sigma_2)^2- (\\omega_1^2\\sigma_1^2+ \\omega_2^2\\sigma_2^2)$\r\n",
        "\r\n",
        "<br/>\r\n",
        "\r\n",
        "`undiversifiable_risk` = `wighted_annual_variances_of_each_stock` =  `annual_portfolio_variance` - `diversifiable_risk`\r\n",
        "\r\n",
        "$(\\omega_1^2\\sigma_1^2+ \\omega_2^2\\sigma_2^2) = (\\omega_1\\sigma_1+ \\omega_2\\sigma_2)^2 - 2\\omega_1\\omega_2*cov_{12}$ "
      ]
    },
    {
      "cell_type": "code",
      "metadata": {
        "id": "K6P7f2fkk8nZ"
      },
      "source": [
        "# weights of two assets\r\n",
        "weights = np.array([0.5, 0.5])"
      ],
      "execution_count": null,
      "outputs": []
    },
    {
      "cell_type": "code",
      "metadata": {
        "colab": {
          "base_uri": "https://localhost:8080/"
        },
        "id": "QUJIia5QpdYG",
        "outputId": "7a9d06ba-854f-4262-aacc-07d5b6685a0f"
      },
      "source": [
        "# Annualized variance\r\n",
        "PG_var_ann = sec_returns['PG'].var() * 250\r\n",
        "BEI_var_ann = sec_returns['BEI.DE'].var() * 250\r\n",
        "print(\"Wighted annual variances of each stock: {} %\" \\\r\n",
        "      .format(round((weights[0]**2 * PG_var_ann + weights[1]**2 * BEI_var_ann)*100, 3)))"
      ],
      "execution_count": null,
      "outputs": [
        {
          "output_type": "stream",
          "text": [
            "Wighted annual variances of each stock: 1.699 %\n"
          ],
          "name": "stdout"
        }
      ]
    },
    {
      "cell_type": "code",
      "metadata": {
        "colab": {
          "base_uri": "https://localhost:8080/"
        },
        "id": "qX10JYZ7xw1u",
        "outputId": "8694b819-63e6-41e5-fdb1-d02fadd2c9f1"
      },
      "source": [
        "print(\"Portfolio variance: {} %\".format(round(pfolio_var * 100, 3)))"
      ],
      "execution_count": null,
      "outputs": [
        {
          "output_type": "stream",
          "text": [
            "Portfolio variance: 2.166 %\n"
          ],
          "name": "stdout"
        }
      ]
    },
    {
      "cell_type": "code",
      "metadata": {
        "colab": {
          "base_uri": "https://localhost:8080/"
        },
        "id": "dWqfghBqtVJx",
        "outputId": "ab766c07-6ec2-456b-b060-af7fa3dde5c8"
      },
      "source": [
        "# diversifiable risk\r\n",
        "d_risk = pfolio_var - (weights[0]**2 * PG_var_ann) - (weights[1]**2 * BEI_var_ann)\r\n",
        "print(\"Diversifiable risk: {} %\".format(round(d_risk*100, 3)))"
      ],
      "execution_count": null,
      "outputs": [
        {
          "output_type": "stream",
          "text": [
            "Diversifiable risk: 0.467 %\n"
          ],
          "name": "stdout"
        }
      ]
    },
    {
      "cell_type": "code",
      "metadata": {
        "colab": {
          "base_uri": "https://localhost:8080/"
        },
        "id": "BPzsJeyT7Fk5",
        "outputId": "24226a2f-a85c-42cf-a1b8-c0f85969ebde"
      },
      "source": [
        "# undiversifiable risk\r\n",
        "ud_risk = pfolio_var - d_risk\r\n",
        "print(\"Undiversifiable risk: {} %\".format(round(ud_risk*100, 3)))"
      ],
      "execution_count": null,
      "outputs": [
        {
          "output_type": "stream",
          "text": [
            "Undiversifiable risk: 1.699 %\n"
          ],
          "name": "stdout"
        }
      ]
    },
    {
      "cell_type": "markdown",
      "metadata": {
        "id": "QtTHDogaGzwh"
      },
      "source": [
        "## Fin"
      ]
    }
  ]
}