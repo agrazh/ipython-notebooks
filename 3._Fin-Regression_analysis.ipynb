{
  "nbformat": 4,
  "nbformat_minor": 0,
  "metadata": {
    "colab": {
      "name": "3. Fin-Regression_analysis.ipynb",
      "provenance": [],
      "collapsed_sections": [
        "fiQGbGqrA1zS"
      ],
      "toc_visible": true,
      "authorship_tag": "ABX9TyNaZMw1dP4bfrIXtAPaqI83"
    },
    "kernelspec": {
      "name": "python3",
      "display_name": "Python 3"
    }
  },
  "cells": [
    {
      "cell_type": "code",
      "metadata": {
        "id": "y2af_8Tq84aC",
        "colab": {
          "base_uri": "https://localhost:8080/"
        },
        "outputId": "f5dc85c4-6eb0-4125-9016-d389584fbf4a"
      },
      "source": [
        "import numpy as np\r\n",
        "import pandas as pd\r\n",
        "\r\n",
        "from scipy import stats\r\n",
        "import statsmodels.api as sm\r\n",
        "\r\n",
        "import matplotlib.pyplot as plt"
      ],
      "execution_count": 1,
      "outputs": [
        {
          "output_type": "stream",
          "text": [
            "/usr/local/lib/python3.7/dist-packages/statsmodels/tools/_testing.py:19: FutureWarning: pandas.util.testing is deprecated. Use the functions in the public API at pandas.testing instead.\n",
            "  import pandas.util.testing as tm\n"
          ],
          "name": "stderr"
        }
      ]
    },
    {
      "cell_type": "code",
      "metadata": {
        "id": "a2LYCbPM_3Qq"
      },
      "source": [
        "data = pd.read_excel('./data/Housing.xlsx')"
      ],
      "execution_count": 2,
      "outputs": []
    },
    {
      "cell_type": "code",
      "metadata": {
        "colab": {
          "base_uri": "https://localhost:8080/",
          "height": 206
        },
        "id": "cIMy_DN7__Nd",
        "outputId": "c883fb6c-b8bd-429e-a8b6-54a04fac4535"
      },
      "source": [
        "data[['House Price', 'House Size (sq.ft.)']].head()"
      ],
      "execution_count": 3,
      "outputs": [
        {
          "output_type": "execute_result",
          "data": {
            "text/html": [
              "<div>\n",
              "<style scoped>\n",
              "    .dataframe tbody tr th:only-of-type {\n",
              "        vertical-align: middle;\n",
              "    }\n",
              "\n",
              "    .dataframe tbody tr th {\n",
              "        vertical-align: top;\n",
              "    }\n",
              "\n",
              "    .dataframe thead th {\n",
              "        text-align: right;\n",
              "    }\n",
              "</style>\n",
              "<table border=\"1\" class=\"dataframe\">\n",
              "  <thead>\n",
              "    <tr style=\"text-align: right;\">\n",
              "      <th></th>\n",
              "      <th>House Price</th>\n",
              "      <th>House Size (sq.ft.)</th>\n",
              "    </tr>\n",
              "  </thead>\n",
              "  <tbody>\n",
              "    <tr>\n",
              "      <th>0</th>\n",
              "      <td>1116000</td>\n",
              "      <td>1940</td>\n",
              "    </tr>\n",
              "    <tr>\n",
              "      <th>1</th>\n",
              "      <td>860000</td>\n",
              "      <td>1300</td>\n",
              "    </tr>\n",
              "    <tr>\n",
              "      <th>2</th>\n",
              "      <td>818400</td>\n",
              "      <td>1420</td>\n",
              "    </tr>\n",
              "    <tr>\n",
              "      <th>3</th>\n",
              "      <td>1000000</td>\n",
              "      <td>1680</td>\n",
              "    </tr>\n",
              "    <tr>\n",
              "      <th>4</th>\n",
              "      <td>640000</td>\n",
              "      <td>1270</td>\n",
              "    </tr>\n",
              "  </tbody>\n",
              "</table>\n",
              "</div>"
            ],
            "text/plain": [
              "   House Price  House Size (sq.ft.)\n",
              "0      1116000                 1940\n",
              "1       860000                 1300\n",
              "2       818400                 1420\n",
              "3      1000000                 1680\n",
              "4       640000                 1270"
            ]
          },
          "metadata": {
            "tags": []
          },
          "execution_count": 3
        }
      ]
    },
    {
      "cell_type": "markdown",
      "metadata": {
        "id": "fiQGbGqrA1zS"
      },
      "source": [
        "## Simple (univariate) regression"
      ]
    },
    {
      "cell_type": "markdown",
      "metadata": {
        "id": "qUfaz_S0ohVf"
      },
      "source": [
        "Regression analysis assumes the existence of a linear relationship between the two variables.\r\n",
        "\r\n",
        "In this case the prediction is made with the help of the best fitting line that contains the least amount of estimation errors:\r\n",
        "\r\n",
        "$y = \\alpha+ \\beta x$, where $\\alpha$ is an intercept, $\\beta$ is a slope.\r\n",
        "\r\n",
        "It quantifies the relationship between a variable, called <u>dependent variable</u>, and one or more <u>explanatory variables</u> (independent variables).\r\n",
        "\r\n",
        "In the example \"House size\" is an explanatory var, \"House price\" - dependent variable."
      ]
    },
    {
      "cell_type": "code",
      "metadata": {
        "id": "UnGqC_EzAwFt"
      },
      "source": [
        "# independent variable\r\n",
        "X = data['House Size (sq.ft.)']\r\n",
        "# dependent variable (predictor)\r\n",
        "y = data['House Price']"
      ],
      "execution_count": 4,
      "outputs": []
    },
    {
      "cell_type": "code",
      "metadata": {
        "colab": {
          "base_uri": "https://localhost:8080/",
          "height": 290
        },
        "id": "85-VUyaKBWeL",
        "outputId": "029a9f9b-28e0-4da9-8770-b4517bacb405"
      },
      "source": [
        "plt.scatter(X,y)\r\n",
        "plt.axis([0, 2500, 0, 1500000])\r\n",
        "plt.xlabel('House Size (sq.ft.)')\r\n",
        "plt.ylabel('House Price')\r\n",
        "plt.show()"
      ],
      "execution_count": 5,
      "outputs": [
        {
          "output_type": "display_data",
          "data": {
            "image/png": "[encoded data removed]",
            "text/plain": [
              "<Figure size 432x288 with 1 Axes>"
            ]
          },
          "metadata": {
            "tags": [],
            "needs_background": "light"
          }
        }
      ]
    },
    {
      "cell_type": "markdown",
      "metadata": {
        "id": "aM7T6MfKpsO2"
      },
      "source": [
        "The regression model can be written as:\r\n",
        "\r\n",
        "$Y = \\alpha+ \\beta x + {error}$, where error is residuals. The best fitting line minimizes the sum of the squared residuals.\r\n"
      ]
    },
    {
      "cell_type": "markdown",
      "metadata": {
        "id": "bPoJBRSN5dX7"
      },
      "source": [
        "## Explanatory power of the regression model\r\n"
      ]
    },
    {
      "cell_type": "markdown",
      "metadata": {
        "id": "LQWWU1Oj5meQ"
      },
      "source": [
        "<u>Coeficient of determination</u> (R-squared) - is a measurement used to explain how much variability of one factor can be caused by its relationship to another related factor:\r\n",
        "$$\r\n",
        "R^2 = 1 - \\frac{SSR}{TSS},\\quad R^2\\in [0,1]\r\n",
        "$$\r\n",
        "where:\r\n",
        "* <u>Total squred sum</u>:\r\n",
        "$TSS = \\sum(y_i - \\overline{y})^2$, where $\\overline{y}$ - mean value of the dependent variable \r\n",
        "\r\n",
        "* <u>Squared sum of residuals</u>: \r\n",
        "$SSR = \\sum(\\hat{y} - \\overline{y})^2$, where $\\hat{y}$ - predicted value (point on the regression line)\r\n",
        "\r\n",
        "<br/>\r\n",
        "\r\n",
        "The higher $R^2$ is, the more predictive power the model has. Model with R^2 > 30% - in most cases can be considered as the one having good explanatory power.\r\n",
        "\r\n",
        "<br/>\r\n",
        "\r\n",
        "$$TSS = SSE + SSR$$\r\n",
        "\r\n",
        "<u>Sum of squares error</u>:\r\n",
        "$SSE = \\sum e_i^2$, where $e_i$ - the difference between the observed value and the predicted value.\r\n",
        "\r\n",
        "SSE measures the unexplained variability by the regression.\r\n",
        "\r\n"
      ]
    },
    {
      "cell_type": "markdown",
      "metadata": {
        "id": "u7V5ertGEXSw"
      },
      "source": [
        "## OLS (Ordinary least squares) estimates "
      ]
    },
    {
      "cell_type": "markdown",
      "metadata": {
        "id": "90T9gsqSrHc_"
      },
      "source": [
        "OLS technique allows to find $\\alpha$ and $\\beta$ coefficients for regression line with the least ${error}$ "
      ]
    },
    {
      "cell_type": "code",
      "metadata": {
        "id": "4Mj5zsc-BXCq"
      },
      "source": [
        "# By default, statsmodels fits a line passing through the origin, i.e. it doesn't fit an intercept.\r\n",
        "# Hence, you need to use 'add_constant' so that it also fits an intercept.\r\n",
        "#\r\n",
        "X1 = sm.add_constant(X)\r\n",
        "# X1.head()"
      ],
      "execution_count": 6,
      "outputs": []
    },
    {
      "cell_type": "code",
      "metadata": {
        "id": "jKRW0cK_3E3x"
      },
      "source": [
        "# regression\r\n",
        "#\r\n",
        "reg = sm.OLS(y, X1).fit()"
      ],
      "execution_count": 7,
      "outputs": []
    },
    {
      "cell_type": "code",
      "metadata": {
        "colab": {
          "base_uri": "https://localhost:8080/",
          "height": 486
        },
        "id": "AdGDfKbd3EpK",
        "outputId": "d2d8e218-18eb-4f78-9df3-d785d813e168"
      },
      "source": [
        "reg.summary()"
      ],
      "execution_count": 8,
      "outputs": [
        {
          "output_type": "execute_result",
          "data": {
            "text/html": [
              "<table class=\"simpletable\">\n",
              "<caption>OLS Regression Results</caption>\n",
              "<tr>\n",
              "  <th>Dep. Variable:</th>       <td>House Price</td>   <th>  R-squared:         </th> <td>   0.678</td>\n",
              "</tr>\n",
              "<tr>\n",
              "  <th>Model:</th>                   <td>OLS</td>       <th>  Adj. R-squared:    </th> <td>   0.660</td>\n",
              "</tr>\n",
              "<tr>\n",
              "  <th>Method:</th>             <td>Least Squares</td>  <th>  F-statistic:       </th> <td>   37.95</td>\n",
              "</tr>\n",
              "<tr>\n",
              "  <th>Date:</th>             <td>Wed, 03 Mar 2021</td> <th>  Prob (F-statistic):</th> <td>8.13e-06</td>\n",
              "</tr>\n",
              "<tr>\n",
              "  <th>Time:</th>                 <td>13:02:22</td>     <th>  Log-Likelihood:    </th> <td> -260.43</td>\n",
              "</tr>\n",
              "<tr>\n",
              "  <th>No. Observations:</th>      <td>    20</td>      <th>  AIC:               </th> <td>   524.9</td>\n",
              "</tr>\n",
              "<tr>\n",
              "  <th>Df Residuals:</th>          <td>    18</td>      <th>  BIC:               </th> <td>   526.8</td>\n",
              "</tr>\n",
              "<tr>\n",
              "  <th>Df Model:</th>              <td>     1</td>      <th>                     </th>     <td> </td>   \n",
              "</tr>\n",
              "<tr>\n",
              "  <th>Covariance Type:</th>      <td>nonrobust</td>    <th>                     </th>     <td> </td>   \n",
              "</tr>\n",
              "</table>\n",
              "<table class=\"simpletable\">\n",
              "<tr>\n",
              "           <td></td>              <th>coef</th>     <th>std err</th>      <th>t</th>      <th>P>|t|</th>  <th>[0.025</th>    <th>0.975]</th>  \n",
              "</tr>\n",
              "<tr>\n",
              "  <th>const</th>               <td> 2.608e+05</td> <td> 9.76e+04</td> <td>    2.673</td> <td> 0.016</td> <td> 5.58e+04</td> <td> 4.66e+05</td>\n",
              "</tr>\n",
              "<tr>\n",
              "  <th>House Size (sq.ft.)</th> <td>  401.9163</td> <td>   65.243</td> <td>    6.160</td> <td> 0.000</td> <td>  264.846</td> <td>  538.987</td>\n",
              "</tr>\n",
              "</table>\n",
              "<table class=\"simpletable\">\n",
              "<tr>\n",
              "  <th>Omnibus:</th>       <td> 1.238</td> <th>  Durbin-Watson:     </th> <td>   1.810</td>\n",
              "</tr>\n",
              "<tr>\n",
              "  <th>Prob(Omnibus):</th> <td> 0.538</td> <th>  Jarque-Bera (JB):  </th> <td>   0.715</td>\n",
              "</tr>\n",
              "<tr>\n",
              "  <th>Skew:</th>          <td>-0.459</td> <th>  Prob(JB):          </th> <td>   0.699</td>\n",
              "</tr>\n",
              "<tr>\n",
              "  <th>Kurtosis:</th>      <td> 2.884</td> <th>  Cond. No.          </th> <td>5.66e+03</td>\n",
              "</tr>\n",
              "</table><br/><br/>Warnings:<br/>[1] Standard Errors assume that the covariance matrix of the errors is correctly specified.<br/>[2] The condition number is large, 5.66e+03. This might indicate that there are<br/>strong multicollinearity or other numerical problems."
            ],
            "text/plain": [
              "<class 'statsmodels.iolib.summary.Summary'>\n",
              "\"\"\"\n",
              "                            OLS Regression Results                            \n",
              "==============================================================================\n",
              "Dep. Variable:            House Price   R-squared:                       0.678\n",
              "Model:                            OLS   Adj. R-squared:                  0.660\n",
              "Method:                 Least Squares   F-statistic:                     37.95\n",
              "Date:                Wed, 03 Mar 2021   Prob (F-statistic):           8.13e-06\n",
              "Time:                        13:02:22   Log-Likelihood:                -260.43\n",
              "No. Observations:                  20   AIC:                             524.9\n",
              "Df Residuals:                      18   BIC:                             526.8\n",
              "Df Model:                           1                                         \n",
              "Covariance Type:            nonrobust                                         \n",
              "=======================================================================================\n",
              "                          coef    std err          t      P>|t|      [0.025      0.975]\n",
              "---------------------------------------------------------------------------------------\n",
              "const                2.608e+05   9.76e+04      2.673      0.016    5.58e+04    4.66e+05\n",
              "House Size (sq.ft.)   401.9163     65.243      6.160      0.000     264.846     538.987\n",
              "==============================================================================\n",
              "Omnibus:                        1.238   Durbin-Watson:                   1.810\n",
              "Prob(Omnibus):                  0.538   Jarque-Bera (JB):                0.715\n",
              "Skew:                          -0.459   Prob(JB):                        0.699\n",
              "Kurtosis:                       2.884   Cond. No.                     5.66e+03\n",
              "==============================================================================\n",
              "\n",
              "Warnings:\n",
              "[1] Standard Errors assume that the covariance matrix of the errors is correctly specified.\n",
              "[2] The condition number is large, 5.66e+03. This might indicate that there are\n",
              "strong multicollinearity or other numerical problems.\n",
              "\"\"\""
            ]
          },
          "metadata": {
            "tags": []
          },
          "execution_count": 8
        }
      ]
    },
    {
      "cell_type": "markdown",
      "metadata": {
        "id": "oneEFMwcHrYA"
      },
      "source": [
        "`Dep. Variable` - name of the dependent variable\r\n",
        "\r\n",
        "`Model`, `Method` - type of regression\r\n",
        "\r\n",
        "`R-squared` - R-squared value \r\n",
        "\r\n",
        "`(coef, const)` - is an intercept $\\alpha$\r\n",
        "\r\n",
        "`(coef, dependent_var_name)` - is a slope $\\beta$\r\n",
        "\r\n"
      ]
    },
    {
      "cell_type": "code",
      "metadata": {
        "id": "8hLzAeoqHPRP"
      },
      "source": [
        "slope, intercept, r_value, p_value, std_err = stats.linregress(X,y)"
      ],
      "execution_count": 9,
      "outputs": []
    },
    {
      "cell_type": "code",
      "metadata": {
        "colab": {
          "base_uri": "https://localhost:8080/"
        },
        "id": "ldI-LaeuNIDh",
        "outputId": "446b25f7-da9c-4820-ef9f-33ccecf24360"
      },
      "source": [
        "print(\"Slope: {}\\nIntercept: {}\\nR-value: {}\\nP-value: {}\\nStandard error: {}\" \\\r\n",
        "      .format(slope, intercept, r_value, p_value, std_err))"
      ],
      "execution_count": 10,
      "outputs": [
        {
          "output_type": "stream",
          "text": [
            "Slope: 401.91628631922595\n",
            "Intercept: 260806.2360560964\n",
            "R-value: 0.8235775534696924\n",
            "P-value: 8.129642377231308e-06\n",
            "Standard error: 65.24299510636492\n"
          ],
          "name": "stdout"
        }
      ]
    },
    {
      "cell_type": "markdown",
      "metadata": {
        "id": "haEjjKM79mTs"
      },
      "source": [
        "## Multivariate regressions\r\n",
        "\r\n",
        "$y_i= \\beta_0+ \\sum\\beta_i X_i + e_i$ \r\n",
        "\r\n",
        "By considering more variables in the regression equation, we’ll improve its explanatory power and provide a better idea of the full picture of circumstances that determine the development of the variable we are trying to predict.\r\n",
        "\r\n",
        "Does explanatory variable improves a model's predictive power? We can remove variable and rebuild the regression, or we can compare the p-values of beta coefficients (the probability that the beta coefficients should be different).\r\n",
        "\r\n",
        "Low p-value: there is a low chanse that the beta coefficient are different than estimated. A p-value that is lower than 5% (or 1%) allows us to state that we can be 95% confident that the beta coefficent we've estimated is different than 0.\r\n",
        "\r\n",
        "If p-value is greater than 5% (or 1%) then beta coefficient is \"not statistically significant\"\r\n",
        "\r\n"
      ]
    },
    {
      "cell_type": "code",
      "metadata": {
        "id": "PopXaruqLs3S"
      },
      "source": [
        "data = pd.read_excel('./data/Housing.xlsx')"
      ],
      "execution_count": 11,
      "outputs": []
    },
    {
      "cell_type": "code",
      "metadata": {
        "colab": {
          "base_uri": "https://localhost:8080/",
          "height": 206
        },
        "id": "ccceuzoUL3yz",
        "outputId": "b5ecb745-7adc-4473-d6c6-065a9d9702c4"
      },
      "source": [
        "data.head()"
      ],
      "execution_count": 12,
      "outputs": [
        {
          "output_type": "execute_result",
          "data": {
            "text/html": [
              "<div>\n",
              "<style scoped>\n",
              "    .dataframe tbody tr th:only-of-type {\n",
              "        vertical-align: middle;\n",
              "    }\n",
              "\n",
              "    .dataframe tbody tr th {\n",
              "        vertical-align: top;\n",
              "    }\n",
              "\n",
              "    .dataframe thead th {\n",
              "        text-align: right;\n",
              "    }\n",
              "</style>\n",
              "<table border=\"1\" class=\"dataframe\">\n",
              "  <thead>\n",
              "    <tr style=\"text-align: right;\">\n",
              "      <th></th>\n",
              "      <th>House Price</th>\n",
              "      <th>House Size (sq.ft.)</th>\n",
              "      <th>State</th>\n",
              "      <th>Number of Rooms</th>\n",
              "      <th>Year of Construction</th>\n",
              "    </tr>\n",
              "  </thead>\n",
              "  <tbody>\n",
              "    <tr>\n",
              "      <th>0</th>\n",
              "      <td>1116000</td>\n",
              "      <td>1940</td>\n",
              "      <td>IN</td>\n",
              "      <td>8</td>\n",
              "      <td>2002</td>\n",
              "    </tr>\n",
              "    <tr>\n",
              "      <th>1</th>\n",
              "      <td>860000</td>\n",
              "      <td>1300</td>\n",
              "      <td>IN</td>\n",
              "      <td>5</td>\n",
              "      <td>1992</td>\n",
              "    </tr>\n",
              "    <tr>\n",
              "      <th>2</th>\n",
              "      <td>818400</td>\n",
              "      <td>1420</td>\n",
              "      <td>IN</td>\n",
              "      <td>6</td>\n",
              "      <td>1987</td>\n",
              "    </tr>\n",
              "    <tr>\n",
              "      <th>3</th>\n",
              "      <td>1000000</td>\n",
              "      <td>1680</td>\n",
              "      <td>IN</td>\n",
              "      <td>7</td>\n",
              "      <td>2000</td>\n",
              "    </tr>\n",
              "    <tr>\n",
              "      <th>4</th>\n",
              "      <td>640000</td>\n",
              "      <td>1270</td>\n",
              "      <td>IN</td>\n",
              "      <td>5</td>\n",
              "      <td>1995</td>\n",
              "    </tr>\n",
              "  </tbody>\n",
              "</table>\n",
              "</div>"
            ],
            "text/plain": [
              "   House Price  House Size (sq.ft.)  ... Number of Rooms  Year of Construction\n",
              "0      1116000                 1940  ...               8                  2002\n",
              "1       860000                 1300  ...               5                  1992\n",
              "2       818400                 1420  ...               6                  1987\n",
              "3      1000000                 1680  ...               7                  2000\n",
              "4       640000                 1270  ...               5                  1995\n",
              "\n",
              "[5 rows x 5 columns]"
            ]
          },
          "metadata": {
            "tags": []
          },
          "execution_count": 12
        }
      ]
    },
    {
      "cell_type": "markdown",
      "metadata": {
        "id": "X1AqaVQ1MBeE"
      },
      "source": [
        "Independent variables: \"House Size\", \"Number of Rooms\", \"Year of Construction\""
      ]
    },
    {
      "cell_type": "code",
      "metadata": {
        "id": "e1S2g6NVMQFB"
      },
      "source": [
        "X = data[['House Size (sq.ft.)', 'Number of Rooms', 'Year of Construction']]\r\n",
        "y = data['House Price']"
      ],
      "execution_count": 13,
      "outputs": []
    },
    {
      "cell_type": "code",
      "metadata": {
        "colab": {
          "base_uri": "https://localhost:8080/",
          "height": 529
        },
        "id": "-FipSpO7N4Uc",
        "outputId": "4dd56666-7d6b-4d9b-a17f-d2369b7bdd6d"
      },
      "source": [
        "X1 = sm.add_constant(X)\r\n",
        "reg = sm.OLS(y, X1).fit()\r\n",
        "reg.summary()"
      ],
      "execution_count": 16,
      "outputs": [
        {
          "output_type": "execute_result",
          "data": {
            "text/html": [
              "<table class=\"simpletable\">\n",
              "<caption>OLS Regression Results</caption>\n",
              "<tr>\n",
              "  <th>Dep. Variable:</th>       <td>House Price</td>   <th>  R-squared:         </th> <td>   0.736</td>\n",
              "</tr>\n",
              "<tr>\n",
              "  <th>Model:</th>                   <td>OLS</td>       <th>  Adj. R-squared:    </th> <td>   0.687</td>\n",
              "</tr>\n",
              "<tr>\n",
              "  <th>Method:</th>             <td>Least Squares</td>  <th>  F-statistic:       </th> <td>   14.90</td>\n",
              "</tr>\n",
              "<tr>\n",
              "  <th>Date:</th>             <td>Wed, 03 Mar 2021</td> <th>  Prob (F-statistic):</th> <td>6.82e-05</td>\n",
              "</tr>\n",
              "<tr>\n",
              "  <th>Time:</th>                 <td>13:13:43</td>     <th>  Log-Likelihood:    </th> <td> -258.43</td>\n",
              "</tr>\n",
              "<tr>\n",
              "  <th>No. Observations:</th>      <td>    20</td>      <th>  AIC:               </th> <td>   524.9</td>\n",
              "</tr>\n",
              "<tr>\n",
              "  <th>Df Residuals:</th>          <td>    16</td>      <th>  BIC:               </th> <td>   528.9</td>\n",
              "</tr>\n",
              "<tr>\n",
              "  <th>Df Model:</th>              <td>     3</td>      <th>                     </th>     <td> </td>   \n",
              "</tr>\n",
              "<tr>\n",
              "  <th>Covariance Type:</th>      <td>nonrobust</td>    <th>                     </th>     <td> </td>   \n",
              "</tr>\n",
              "</table>\n",
              "<table class=\"simpletable\">\n",
              "<tr>\n",
              "            <td></td>              <th>coef</th>     <th>std err</th>      <th>t</th>      <th>P>|t|</th>  <th>[0.025</th>    <th>0.975]</th>  \n",
              "</tr>\n",
              "<tr>\n",
              "  <th>const</th>                <td>-9.452e+06</td> <td>  5.4e+06</td> <td>   -1.752</td> <td> 0.099</td> <td>-2.09e+07</td> <td> 1.99e+06</td>\n",
              "</tr>\n",
              "<tr>\n",
              "  <th>House Size (sq.ft.)</th>  <td>  341.8271</td> <td>  179.666</td> <td>    1.903</td> <td> 0.075</td> <td>  -39.049</td> <td>  722.703</td>\n",
              "</tr>\n",
              "<tr>\n",
              "  <th>Number of Rooms</th>      <td>  1.16e+04</td> <td> 3.74e+04</td> <td>    0.310</td> <td> 0.760</td> <td>-6.77e+04</td> <td> 9.08e+04</td>\n",
              "</tr>\n",
              "<tr>\n",
              "  <th>Year of Construction</th> <td> 4863.5761</td> <td> 2697.969</td> <td>    1.803</td> <td> 0.090</td> <td> -855.862</td> <td> 1.06e+04</td>\n",
              "</tr>\n",
              "</table>\n",
              "<table class=\"simpletable\">\n",
              "<tr>\n",
              "  <th>Omnibus:</th>       <td> 2.140</td> <th>  Durbin-Watson:     </th> <td>   1.938</td>\n",
              "</tr>\n",
              "<tr>\n",
              "  <th>Prob(Omnibus):</th> <td> 0.343</td> <th>  Jarque-Bera (JB):  </th> <td>   1.747</td>\n",
              "</tr>\n",
              "<tr>\n",
              "  <th>Skew:</th>          <td>-0.676</td> <th>  Prob(JB):          </th> <td>   0.418</td>\n",
              "</tr>\n",
              "<tr>\n",
              "  <th>Kurtosis:</th>      <td> 2.484</td> <th>  Cond. No.          </th> <td>5.40e+05</td>\n",
              "</tr>\n",
              "</table><br/><br/>Warnings:<br/>[1] Standard Errors assume that the covariance matrix of the errors is correctly specified.<br/>[2] The condition number is large, 5.4e+05. This might indicate that there are<br/>strong multicollinearity or other numerical problems."
            ],
            "text/plain": [
              "<class 'statsmodels.iolib.summary.Summary'>\n",
              "\"\"\"\n",
              "                            OLS Regression Results                            \n",
              "==============================================================================\n",
              "Dep. Variable:            House Price   R-squared:                       0.736\n",
              "Model:                            OLS   Adj. R-squared:                  0.687\n",
              "Method:                 Least Squares   F-statistic:                     14.90\n",
              "Date:                Wed, 03 Mar 2021   Prob (F-statistic):           6.82e-05\n",
              "Time:                        13:13:43   Log-Likelihood:                -258.43\n",
              "No. Observations:                  20   AIC:                             524.9\n",
              "Df Residuals:                      16   BIC:                             528.9\n",
              "Df Model:                           3                                         \n",
              "Covariance Type:            nonrobust                                         \n",
              "========================================================================================\n",
              "                           coef    std err          t      P>|t|      [0.025      0.975]\n",
              "----------------------------------------------------------------------------------------\n",
              "const                -9.452e+06    5.4e+06     -1.752      0.099   -2.09e+07    1.99e+06\n",
              "House Size (sq.ft.)    341.8271    179.666      1.903      0.075     -39.049     722.703\n",
              "Number of Rooms        1.16e+04   3.74e+04      0.310      0.760   -6.77e+04    9.08e+04\n",
              "Year of Construction  4863.5761   2697.969      1.803      0.090    -855.862    1.06e+04\n",
              "==============================================================================\n",
              "Omnibus:                        2.140   Durbin-Watson:                   1.938\n",
              "Prob(Omnibus):                  0.343   Jarque-Bera (JB):                1.747\n",
              "Skew:                          -0.676   Prob(JB):                        0.418\n",
              "Kurtosis:                       2.484   Cond. No.                     5.40e+05\n",
              "==============================================================================\n",
              "\n",
              "Warnings:\n",
              "[1] Standard Errors assume that the covariance matrix of the errors is correctly specified.\n",
              "[2] The condition number is large, 5.4e+05. This might indicate that there are\n",
              "strong multicollinearity or other numerical problems.\n",
              "\"\"\""
            ]
          },
          "metadata": {
            "tags": []
          },
          "execution_count": 16
        }
      ]
    },
    {
      "cell_type": "markdown",
      "metadata": {
        "id": "ioupu0dxOeOE"
      },
      "source": [
        "Independent variables: \"House Size\", \"Number of Rooms\""
      ]
    },
    {
      "cell_type": "code",
      "metadata": {
        "id": "ESJiqvFuOdOe"
      },
      "source": [
        "X = data[['House Size (sq.ft.)', 'Number of Rooms']]\r\n",
        "y = data['House Price']"
      ],
      "execution_count": 19,
      "outputs": []
    },
    {
      "cell_type": "code",
      "metadata": {
        "colab": {
          "base_uri": "https://localhost:8080/",
          "height": 508
        },
        "id": "QUHpZyv0PoT4",
        "outputId": "3bfadaf0-e07a-473b-f877-385a03f8b448"
      },
      "source": [
        "X1 = sm.add_constant(X)\r\n",
        "reg = sm.OLS(y, X1).fit()\r\n",
        "reg.summary()"
      ],
      "execution_count": 20,
      "outputs": [
        {
          "output_type": "execute_result",
          "data": {
            "text/html": [
              "<table class=\"simpletable\">\n",
              "<caption>OLS Regression Results</caption>\n",
              "<tr>\n",
              "  <th>Dep. Variable:</th>       <td>House Price</td>   <th>  R-squared:         </th> <td>   0.683</td>\n",
              "</tr>\n",
              "<tr>\n",
              "  <th>Model:</th>                   <td>OLS</td>       <th>  Adj. R-squared:    </th> <td>   0.645</td>\n",
              "</tr>\n",
              "<tr>\n",
              "  <th>Method:</th>             <td>Least Squares</td>  <th>  F-statistic:       </th> <td>   18.30</td>\n",
              "</tr>\n",
              "<tr>\n",
              "  <th>Date:</th>             <td>Wed, 03 Mar 2021</td> <th>  Prob (F-statistic):</th> <td>5.77e-05</td>\n",
              "</tr>\n",
              "<tr>\n",
              "  <th>Time:</th>                 <td>13:22:52</td>     <th>  Log-Likelihood:    </th> <td> -260.28</td>\n",
              "</tr>\n",
              "<tr>\n",
              "  <th>No. Observations:</th>      <td>    20</td>      <th>  AIC:               </th> <td>   526.6</td>\n",
              "</tr>\n",
              "<tr>\n",
              "  <th>Df Residuals:</th>          <td>    17</td>      <th>  BIC:               </th> <td>   529.6</td>\n",
              "</tr>\n",
              "<tr>\n",
              "  <th>Df Model:</th>              <td>     2</td>      <th>                     </th>     <td> </td>   \n",
              "</tr>\n",
              "<tr>\n",
              "  <th>Covariance Type:</th>      <td>nonrobust</td>    <th>                     </th>     <td> </td>   \n",
              "</tr>\n",
              "</table>\n",
              "<table class=\"simpletable\">\n",
              "<tr>\n",
              "           <td></td>              <th>coef</th>     <th>std err</th>      <th>t</th>      <th>P>|t|</th>  <th>[0.025</th>    <th>0.975]</th>  \n",
              "</tr>\n",
              "<tr>\n",
              "  <th>const</th>               <td> 2.737e+05</td> <td> 1.03e+05</td> <td>    2.655</td> <td> 0.017</td> <td> 5.62e+04</td> <td> 4.91e+05</td>\n",
              "</tr>\n",
              "<tr>\n",
              "  <th>House Size (sq.ft.)</th> <td>  314.1363</td> <td>  190.485</td> <td>    1.649</td> <td> 0.117</td> <td>  -87.752</td> <td>  716.025</td>\n",
              "</tr>\n",
              "<tr>\n",
              "  <th>Number of Rooms</th>     <td> 1.944e+04</td> <td> 3.95e+04</td> <td>    0.492</td> <td> 0.629</td> <td>-6.39e+04</td> <td> 1.03e+05</td>\n",
              "</tr>\n",
              "</table>\n",
              "<table class=\"simpletable\">\n",
              "<tr>\n",
              "  <th>Omnibus:</th>       <td> 1.326</td> <th>  Durbin-Watson:     </th> <td>   1.852</td>\n",
              "</tr>\n",
              "<tr>\n",
              "  <th>Prob(Omnibus):</th> <td> 0.515</td> <th>  Jarque-Bera (JB):  </th> <td>   0.810</td>\n",
              "</tr>\n",
              "<tr>\n",
              "  <th>Skew:</th>          <td>-0.487</td> <th>  Prob(JB):          </th> <td>   0.667</td>\n",
              "</tr>\n",
              "<tr>\n",
              "  <th>Kurtosis:</th>      <td> 2.853</td> <th>  Cond. No.          </th> <td>5.89e+03</td>\n",
              "</tr>\n",
              "</table><br/><br/>Warnings:<br/>[1] Standard Errors assume that the covariance matrix of the errors is correctly specified.<br/>[2] The condition number is large, 5.89e+03. This might indicate that there are<br/>strong multicollinearity or other numerical problems."
            ],
            "text/plain": [
              "<class 'statsmodels.iolib.summary.Summary'>\n",
              "\"\"\"\n",
              "                            OLS Regression Results                            \n",
              "==============================================================================\n",
              "Dep. Variable:            House Price   R-squared:                       0.683\n",
              "Model:                            OLS   Adj. R-squared:                  0.645\n",
              "Method:                 Least Squares   F-statistic:                     18.30\n",
              "Date:                Wed, 03 Mar 2021   Prob (F-statistic):           5.77e-05\n",
              "Time:                        13:22:52   Log-Likelihood:                -260.28\n",
              "No. Observations:                  20   AIC:                             526.6\n",
              "Df Residuals:                      17   BIC:                             529.6\n",
              "Df Model:                           2                                         \n",
              "Covariance Type:            nonrobust                                         \n",
              "=======================================================================================\n",
              "                          coef    std err          t      P>|t|      [0.025      0.975]\n",
              "---------------------------------------------------------------------------------------\n",
              "const                2.737e+05   1.03e+05      2.655      0.017    5.62e+04    4.91e+05\n",
              "House Size (sq.ft.)   314.1363    190.485      1.649      0.117     -87.752     716.025\n",
              "Number of Rooms      1.944e+04   3.95e+04      0.492      0.629   -6.39e+04    1.03e+05\n",
              "==============================================================================\n",
              "Omnibus:                        1.326   Durbin-Watson:                   1.852\n",
              "Prob(Omnibus):                  0.515   Jarque-Bera (JB):                0.810\n",
              "Skew:                          -0.487   Prob(JB):                        0.667\n",
              "Kurtosis:                       2.853   Cond. No.                     5.89e+03\n",
              "==============================================================================\n",
              "\n",
              "Warnings:\n",
              "[1] Standard Errors assume that the covariance matrix of the errors is correctly specified.\n",
              "[2] The condition number is large, 5.89e+03. This might indicate that there are\n",
              "strong multicollinearity or other numerical problems.\n",
              "\"\"\""
            ]
          },
          "metadata": {
            "tags": []
          },
          "execution_count": 20
        }
      ]
    },
    {
      "cell_type": "markdown",
      "metadata": {
        "id": "sXysAnOgQbLG"
      },
      "source": [
        "Independent variables: \"House Size\", \"Year of Construction\""
      ]
    },
    {
      "cell_type": "code",
      "metadata": {
        "id": "4WtcyT2UQadR"
      },
      "source": [
        "X = data[['House Size (sq.ft.)', 'Year of Construction']]\r\n",
        "y = data['House Price']"
      ],
      "execution_count": 21,
      "outputs": []
    },
    {
      "cell_type": "code",
      "metadata": {
        "colab": {
          "base_uri": "https://localhost:8080/",
          "height": 508
        },
        "id": "mF816osFRCkb",
        "outputId": "f1bed229-a03e-4da3-e932-2bdf1c3b7253"
      },
      "source": [
        "X1 = sm.add_constant(X)\r\n",
        "reg = sm.OLS(y, X1).fit()\r\n",
        "reg.summary()"
      ],
      "execution_count": 22,
      "outputs": [
        {
          "output_type": "execute_result",
          "data": {
            "text/html": [
              "<table class=\"simpletable\">\n",
              "<caption>OLS Regression Results</caption>\n",
              "<tr>\n",
              "  <th>Dep. Variable:</th>       <td>House Price</td>   <th>  R-squared:         </th> <td>   0.735</td>\n",
              "</tr>\n",
              "<tr>\n",
              "  <th>Model:</th>                   <td>OLS</td>       <th>  Adj. R-squared:    </th> <td>   0.704</td>\n",
              "</tr>\n",
              "<tr>\n",
              "  <th>Method:</th>             <td>Least Squares</td>  <th>  F-statistic:       </th> <td>   23.55</td>\n",
              "</tr>\n",
              "<tr>\n",
              "  <th>Date:</th>             <td>Wed, 03 Mar 2021</td> <th>  Prob (F-statistic):</th> <td>1.26e-05</td>\n",
              "</tr>\n",
              "<tr>\n",
              "  <th>Time:</th>                 <td>13:26:02</td>     <th>  Log-Likelihood:    </th> <td> -258.49</td>\n",
              "</tr>\n",
              "<tr>\n",
              "  <th>No. Observations:</th>      <td>    20</td>      <th>  AIC:               </th> <td>   523.0</td>\n",
              "</tr>\n",
              "<tr>\n",
              "  <th>Df Residuals:</th>          <td>    17</td>      <th>  BIC:               </th> <td>   526.0</td>\n",
              "</tr>\n",
              "<tr>\n",
              "  <th>Df Model:</th>              <td>     2</td>      <th>                     </th>     <td> </td>   \n",
              "</tr>\n",
              "<tr>\n",
              "  <th>Covariance Type:</th>      <td>nonrobust</td>    <th>                     </th>     <td> </td>   \n",
              "</tr>\n",
              "</table>\n",
              "<table class=\"simpletable\">\n",
              "<tr>\n",
              "            <td></td>              <th>coef</th>     <th>std err</th>      <th>t</th>      <th>P>|t|</th>  <th>[0.025</th>    <th>0.975]</th>  \n",
              "</tr>\n",
              "<tr>\n",
              "  <th>const</th>                <td>-9.654e+06</td> <td> 5.21e+06</td> <td>   -1.852</td> <td> 0.081</td> <td>-2.07e+07</td> <td> 1.34e+06</td>\n",
              "</tr>\n",
              "<tr>\n",
              "  <th>House Size (sq.ft.)</th>  <td>  394.0417</td> <td>   61.098</td> <td>    6.449</td> <td> 0.000</td> <td>  265.137</td> <td>  522.947</td>\n",
              "</tr>\n",
              "<tr>\n",
              "  <th>Year of Construction</th> <td> 4960.9407</td> <td> 2607.443</td> <td>    1.903</td> <td> 0.074</td> <td> -540.283</td> <td> 1.05e+04</td>\n",
              "</tr>\n",
              "</table>\n",
              "<table class=\"simpletable\">\n",
              "<tr>\n",
              "  <th>Omnibus:</th>       <td> 2.064</td> <th>  Durbin-Watson:     </th> <td>   1.926</td>\n",
              "</tr>\n",
              "<tr>\n",
              "  <th>Prob(Omnibus):</th> <td> 0.356</td> <th>  Jarque-Bera (JB):  </th> <td>   1.689</td>\n",
              "</tr>\n",
              "<tr>\n",
              "  <th>Skew:</th>          <td>-0.663</td> <th>  Prob(JB):          </th> <td>   0.430</td>\n",
              "</tr>\n",
              "<tr>\n",
              "  <th>Kurtosis:</th>      <td> 2.480</td> <th>  Cond. No.          </th> <td>5.36e+05</td>\n",
              "</tr>\n",
              "</table><br/><br/>Warnings:<br/>[1] Standard Errors assume that the covariance matrix of the errors is correctly specified.<br/>[2] The condition number is large, 5.36e+05. This might indicate that there are<br/>strong multicollinearity or other numerical problems."
            ],
            "text/plain": [
              "<class 'statsmodels.iolib.summary.Summary'>\n",
              "\"\"\"\n",
              "                            OLS Regression Results                            \n",
              "==============================================================================\n",
              "Dep. Variable:            House Price   R-squared:                       0.735\n",
              "Model:                            OLS   Adj. R-squared:                  0.704\n",
              "Method:                 Least Squares   F-statistic:                     23.55\n",
              "Date:                Wed, 03 Mar 2021   Prob (F-statistic):           1.26e-05\n",
              "Time:                        13:26:02   Log-Likelihood:                -258.49\n",
              "No. Observations:                  20   AIC:                             523.0\n",
              "Df Residuals:                      17   BIC:                             526.0\n",
              "Df Model:                           2                                         \n",
              "Covariance Type:            nonrobust                                         \n",
              "========================================================================================\n",
              "                           coef    std err          t      P>|t|      [0.025      0.975]\n",
              "----------------------------------------------------------------------------------------\n",
              "const                -9.654e+06   5.21e+06     -1.852      0.081   -2.07e+07    1.34e+06\n",
              "House Size (sq.ft.)    394.0417     61.098      6.449      0.000     265.137     522.947\n",
              "Year of Construction  4960.9407   2607.443      1.903      0.074    -540.283    1.05e+04\n",
              "==============================================================================\n",
              "Omnibus:                        2.064   Durbin-Watson:                   1.926\n",
              "Prob(Omnibus):                  0.356   Jarque-Bera (JB):                1.689\n",
              "Skew:                          -0.663   Prob(JB):                        0.430\n",
              "Kurtosis:                       2.480   Cond. No.                     5.36e+05\n",
              "==============================================================================\n",
              "\n",
              "Warnings:\n",
              "[1] Standard Errors assume that the covariance matrix of the errors is correctly specified.\n",
              "[2] The condition number is large, 5.36e+05. This might indicate that there are\n",
              "strong multicollinearity or other numerical problems.\n",
              "\"\"\""
            ]
          },
          "metadata": {
            "tags": []
          },
          "execution_count": 22
        }
      ]
    },
    {
      "cell_type": "markdown",
      "metadata": {
        "id": "mb5t6DR6RX1l"
      },
      "source": [
        "Independent variables: \"Number of Rooms\", \"Year of Construction\""
      ]
    },
    {
      "cell_type": "code",
      "metadata": {
        "id": "gB_R99c_RbCs"
      },
      "source": [
        "X = data[['Number of Rooms', 'Year of Construction']]\r\n",
        "y = data['House Price']"
      ],
      "execution_count": 25,
      "outputs": []
    },
    {
      "cell_type": "code",
      "metadata": {
        "colab": {
          "base_uri": "https://localhost:8080/",
          "height": 508
        },
        "id": "PZgOGSPgRcGV",
        "outputId": "3c4f9d39-6746-4628-c144-b2b45e92bee7"
      },
      "source": [
        "X1 = sm.add_constant(X)\r\n",
        "reg = sm.OLS(y, X1).fit()\r\n",
        "reg.summary()"
      ],
      "execution_count": 26,
      "outputs": [
        {
          "output_type": "execute_result",
          "data": {
            "text/html": [
              "<table class=\"simpletable\">\n",
              "<caption>OLS Regression Results</caption>\n",
              "<tr>\n",
              "  <th>Dep. Variable:</th>       <td>House Price</td>   <th>  R-squared:         </th> <td>   0.677</td>\n",
              "</tr>\n",
              "<tr>\n",
              "  <th>Model:</th>                   <td>OLS</td>       <th>  Adj. R-squared:    </th> <td>   0.639</td>\n",
              "</tr>\n",
              "<tr>\n",
              "  <th>Method:</th>             <td>Least Squares</td>  <th>  F-statistic:       </th> <td>   17.79</td>\n",
              "</tr>\n",
              "<tr>\n",
              "  <th>Date:</th>             <td>Wed, 03 Mar 2021</td> <th>  Prob (F-statistic):</th> <td>6.79e-05</td>\n",
              "</tr>\n",
              "<tr>\n",
              "  <th>Time:</th>                 <td>13:29:19</td>     <th>  Log-Likelihood:    </th> <td> -260.47</td>\n",
              "</tr>\n",
              "<tr>\n",
              "  <th>No. Observations:</th>      <td>    20</td>      <th>  AIC:               </th> <td>   526.9</td>\n",
              "</tr>\n",
              "<tr>\n",
              "  <th>Df Residuals:</th>          <td>    17</td>      <th>  BIC:               </th> <td>   529.9</td>\n",
              "</tr>\n",
              "<tr>\n",
              "  <th>Df Model:</th>              <td>     2</td>      <th>                     </th>     <td> </td>   \n",
              "</tr>\n",
              "<tr>\n",
              "  <th>Covariance Type:</th>      <td>nonrobust</td>    <th>                     </th>     <td> </td>   \n",
              "</tr>\n",
              "</table>\n",
              "<table class=\"simpletable\">\n",
              "<tr>\n",
              "            <td></td>              <th>coef</th>     <th>std err</th>      <th>t</th>      <th>P>|t|</th>  <th>[0.025</th>    <th>0.975]</th>  \n",
              "</tr>\n",
              "<tr>\n",
              "  <th>const</th>                <td>-8.471e+06</td> <td> 5.77e+06</td> <td>   -1.468</td> <td> 0.160</td> <td>-2.06e+07</td> <td>  3.7e+06</td>\n",
              "</tr>\n",
              "<tr>\n",
              "  <th>Number of Rooms</th>      <td> 7.824e+04</td> <td>  1.4e+04</td> <td>    5.574</td> <td> 0.000</td> <td> 4.86e+04</td> <td> 1.08e+05</td>\n",
              "</tr>\n",
              "<tr>\n",
              "  <th>Year of Construction</th> <td> 4424.7160</td> <td> 2887.793</td> <td>    1.532</td> <td> 0.144</td> <td>-1667.996</td> <td> 1.05e+04</td>\n",
              "</tr>\n",
              "</table>\n",
              "<table class=\"simpletable\">\n",
              "<tr>\n",
              "  <th>Omnibus:</th>       <td> 2.115</td> <th>  Durbin-Watson:     </th> <td>   1.959</td>\n",
              "</tr>\n",
              "<tr>\n",
              "  <th>Prob(Omnibus):</th> <td> 0.347</td> <th>  Jarque-Bera (JB):  </th> <td>   1.400</td>\n",
              "</tr>\n",
              "<tr>\n",
              "  <th>Skew:</th>          <td>-0.407</td> <th>  Prob(JB):          </th> <td>   0.497</td>\n",
              "</tr>\n",
              "<tr>\n",
              "  <th>Kurtosis:</th>      <td> 1.991</td> <th>  Cond. No.          </th> <td>4.34e+05</td>\n",
              "</tr>\n",
              "</table><br/><br/>Warnings:<br/>[1] Standard Errors assume that the covariance matrix of the errors is correctly specified.<br/>[2] The condition number is large, 4.34e+05. This might indicate that there are<br/>strong multicollinearity or other numerical problems."
            ],
            "text/plain": [
              "<class 'statsmodels.iolib.summary.Summary'>\n",
              "\"\"\"\n",
              "                            OLS Regression Results                            \n",
              "==============================================================================\n",
              "Dep. Variable:            House Price   R-squared:                       0.677\n",
              "Model:                            OLS   Adj. R-squared:                  0.639\n",
              "Method:                 Least Squares   F-statistic:                     17.79\n",
              "Date:                Wed, 03 Mar 2021   Prob (F-statistic):           6.79e-05\n",
              "Time:                        13:29:19   Log-Likelihood:                -260.47\n",
              "No. Observations:                  20   AIC:                             526.9\n",
              "Df Residuals:                      17   BIC:                             529.9\n",
              "Df Model:                           2                                         \n",
              "Covariance Type:            nonrobust                                         \n",
              "========================================================================================\n",
              "                           coef    std err          t      P>|t|      [0.025      0.975]\n",
              "----------------------------------------------------------------------------------------\n",
              "const                -8.471e+06   5.77e+06     -1.468      0.160   -2.06e+07     3.7e+06\n",
              "Number of Rooms       7.824e+04    1.4e+04      5.574      0.000    4.86e+04    1.08e+05\n",
              "Year of Construction  4424.7160   2887.793      1.532      0.144   -1667.996    1.05e+04\n",
              "==============================================================================\n",
              "Omnibus:                        2.115   Durbin-Watson:                   1.959\n",
              "Prob(Omnibus):                  0.347   Jarque-Bera (JB):                1.400\n",
              "Skew:                          -0.407   Prob(JB):                        0.497\n",
              "Kurtosis:                       1.991   Cond. No.                     4.34e+05\n",
              "==============================================================================\n",
              "\n",
              "Warnings:\n",
              "[1] Standard Errors assume that the covariance matrix of the errors is correctly specified.\n",
              "[2] The condition number is large, 4.34e+05. This might indicate that there are\n",
              "strong multicollinearity or other numerical problems.\n",
              "\"\"\""
            ]
          },
          "metadata": {
            "tags": []
          },
          "execution_count": 26
        }
      ]
    }
  ]
}