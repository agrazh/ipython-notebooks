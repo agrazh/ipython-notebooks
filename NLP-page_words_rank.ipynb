{
  "nbformat": 4,
  "nbformat_minor": 0,
  "metadata": {
    "colab": {
      "name": "NLP-wiki-parsing.ipynb",
      "provenance": [],
      "collapsed_sections": []
    },
    "kernelspec": {
      "name": "python3",
      "display_name": "Python 3"
    }
  },
  "cells": [
    {
      "cell_type": "code",
      "metadata": {
        "cellView": "form",
        "id": "saQYP_i5HrGH"
      },
      "source": [
        "url = 'https://en.wikipedia.org/wiki/Cognitive_science' #@param {type:\"string\"}\r\n",
        "min_occurr = 10 #@param {type:\"integer\"}"
      ],
      "execution_count": null,
      "outputs": []
    },
    {
      "cell_type": "code",
      "metadata": {
        "id": "ApXrHQqu4bQw"
      },
      "source": [
        "import nltk\r\n",
        "from nltk.corpus import stopwords\r\n",
        "from bs4 import BeautifulSoup, SoupStrainer\r\n",
        "import urllib.request\r\n",
        "import plotly.io as pio"
      ],
      "execution_count": null,
      "outputs": []
    },
    {
      "cell_type": "code",
      "metadata": {
        "id": "Bikp8J2Q5PER"
      },
      "source": [
        "page =  urllib.request.urlopen(url)\r\n",
        "html_plain = page.read()\r\n",
        "# print(html_plain)"
      ],
      "execution_count": null,
      "outputs": []
    },
    {
      "cell_type": "code",
      "metadata": {
        "id": "gNLIXnur62AY"
      },
      "source": [
        "certain_tags = SoupStrainer('body')\r\n",
        "soup = BeautifulSoup(html_plain, 'html.parser', parse_only=certain_tags)\r\n",
        "\r\n",
        "[script_tag.decompose() for script_tag in soup.find_all('script')]; pass\r\n",
        "\r\n",
        "soup_text = soup.get_text(strip = True).lower()\r\n",
        "# print(soup_text)"
      ],
      "execution_count": null,
      "outputs": []
    },
    {
      "cell_type": "code",
      "metadata": {
        "id": "gg-UA8Lm9H6l"
      },
      "source": [
        "tokens = []\r\n",
        "\r\n",
        "[tokens.append(t) for t in soup_text.split()]; pass\r\n",
        "# print(tokens)"
      ],
      "execution_count": null,
      "outputs": []
    },
    {
      "cell_type": "code",
      "metadata": {
        "id": "RKPWC2UUFhCC"
      },
      "source": [
        "nltk.download('stopwords')\r\n",
        "stop_words = nltk.corpus.stopwords.words('english')\r\n",
        "# stop_words = stopwords.words('english')\r\n",
        "# print(stop_words)"
      ],
      "execution_count": null,
      "outputs": []
    },
    {
      "cell_type": "code",
      "metadata": {
        "id": "hXXK9rR9EpZr"
      },
      "source": [
        "refined_tokens = list()\r\n",
        "\r\n",
        "[refined_tokens.append(t) for t in tokens if t not in stop_words]; pass\r\n",
        "# print(len(refined_tokens))"
      ],
      "execution_count": null,
      "outputs": []
    },
    {
      "cell_type": "code",
      "metadata": {
        "id": "8cv_v1dLIEwE"
      },
      "source": [
        "freq = nltk.FreqDist(refined_tokens)  # nltk.probability.FreqDist\r\n",
        "# for key, val in freq.items():\r\n",
        "#     print('token: ' + str(key) + ', qty: ' + str(val))"
      ],
      "execution_count": null,
      "outputs": []
    },
    {
      "cell_type": "code",
      "metadata": {
        "id": "Vy3MXzWDILZC"
      },
      "source": [
        "high_freq = dict()\r\n",
        "for key, val in freq.items():\r\n",
        "    if (val > min_occurr):\r\n",
        "        high_freq[key] = val\r\n",
        "\r\n",
        "# iter(freq).__next__()  # returns dict key\r\n",
        "# tuple(filter(lambda key: freq[key] > 10, freq))"
      ],
      "execution_count": null,
      "outputs": []
    },
    {
      "cell_type": "code",
      "metadata": {
        "id": "-sKpXJCrITIU"
      },
      "source": [
        "fig = dict({\r\n",
        "    \"data\": [{\"type\": \"bar\",\r\n",
        "              \"x\": list(high_freq.keys()),\r\n",
        "              \"y\": list(high_freq.values())}],\r\n",
        "    \"layout\": {\"title\": {\"text\": \"Words occurrence frequency\"},\r\n",
        "               \"xaxis\": {\"categoryorder\":\"total descending\"}}\r\n",
        "})\r\n",
        "pio.show(fig)"
      ],
      "execution_count": null,
      "outputs": []
    }
  ]
}