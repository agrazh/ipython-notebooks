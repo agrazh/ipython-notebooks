{
  "nbformat": 4,
  "nbformat_minor": 0,
  "metadata": {
    "colab": {
      "name": "DT-Survival_analysis.ipynb",
      "provenance": [],
      "collapsed_sections": [
        "YlnTObb86U5k",
        "hoIp9iu8L-mt",
        "fsd-s3tIbogv",
        "iV9XVCmbi0jZ",
        "bzvsZDDFrsTP"
      ]
    },
    "kernelspec": {
      "name": "python3",
      "display_name": "Python 3"
    }
  },
  "cells": [
    {
      "cell_type": "code",
      "metadata": {
        "id": "l68GCUax7TUF"
      },
      "source": [
        "import gc\r\n",
        "import numpy as np\r\n",
        "import pandas as pd\r\n",
        "from sklearn import tree\r\n",
        "from sklearn.model_selection import train_test_split\r\n",
        "from sklearn.model_selection import cross_val_score\r\n",
        "import matplotlib.pyplot as plt\r\n",
        "import seaborn as sns\r\n",
        "# %matplotlib inline"
      ],
      "execution_count": null,
      "outputs": []
    },
    {
      "cell_type": "markdown",
      "metadata": {
        "id": "YlnTObb86U5k"
      },
      "source": [
        "### 1. Data preparation"
      ]
    },
    {
      "cell_type": "code",
      "metadata": {
        "id": "rWfVb3fI6NvT"
      },
      "source": [
        "# labeled data\r\n",
        "df = pd.read_csv('./data/train.csv', encoding='utf-8')"
      ],
      "execution_count": null,
      "outputs": []
    },
    {
      "cell_type": "code",
      "metadata": {
        "id": "CfoCfTddLc4d"
      },
      "source": [
        "# df.head()\r\n",
        "# df.isnull().sum()"
      ],
      "execution_count": null,
      "outputs": []
    },
    {
      "cell_type": "code",
      "metadata": {
        "id": "7b8KxH_n6npO"
      },
      "source": [
        "df.isna().mean() * 100  # percentage of missed values"
      ],
      "execution_count": null,
      "outputs": []
    },
    {
      "cell_type": "code",
      "metadata": {
        "id": "iG-GrwlHHUid"
      },
      "source": [
        "# drop insignificant features\r\n",
        "X = df.drop(['PassengerId', 'Survived', 'Name', 'Ticket', 'Cabin'], axis=1)\r\n",
        "# feature to predict\r\n",
        "y = df[['Survived']]"
      ],
      "execution_count": null,
      "outputs": []
    },
    {
      "cell_type": "code",
      "metadata": {
        "id": "gwBL9QUqKXB6"
      },
      "source": [
        "X = X.fillna({'Age': X.Age.median()})\r\n",
        "\r\n",
        "# male_age_median = X[X['Sex'] == 'male'].Age.median()\r\n",
        "# female_age_median = X[X['Sex'] == 'female'].Age.median()\r\n",
        "\r\n",
        "# X = pd.concat([\r\n",
        "#     X.loc[X['Sex'] == 'male'].fillna({'Age': male_age_median}),\r\n",
        "#     X.loc[X['Sex'] == 'female'].fillna({'Age': female_age_median})\r\n",
        "# ])"
      ],
      "execution_count": null,
      "outputs": []
    },
    {
      "cell_type": "code",
      "metadata": {
        "id": "Y-tk8tCzJBZQ"
      },
      "source": [
        "# X.shape\r\n",
        "# X.isna().mean() * 100"
      ],
      "execution_count": null,
      "outputs": []
    },
    {
      "cell_type": "code",
      "metadata": {
        "id": "exqEXqUgIhWL"
      },
      "source": [
        "# apply one-hot encoding\r\n",
        "X = pd.get_dummies(X)\r\n",
        "\r\n",
        "# Label encoding (only if we do not expect any new values for any categorical variable)\r\n",
        "#"
      ],
      "execution_count": null,
      "outputs": []
    },
    {
      "cell_type": "code",
      "metadata": {
        "id": "f8ggGjPiMdCF"
      },
      "source": [
        "# # cleanup\r\n",
        "# del male_age_median\r\n",
        "# del female_age_median\r\n",
        "# gc.collect()"
      ],
      "execution_count": null,
      "outputs": []
    },
    {
      "cell_type": "markdown",
      "metadata": {
        "id": "hoIp9iu8L-mt"
      },
      "source": [
        "### 2.1 Decision Tree Classifier (best depth based on `cross_val_score`)"
      ]
    },
    {
      "cell_type": "code",
      "metadata": {
        "id": "4U6hYVVCEjAA"
      },
      "source": [
        "X_train, X_test, y_train, y_test = train_test_split(X, y, test_size=0.33, random_state=42)"
      ],
      "execution_count": null,
      "outputs": []
    },
    {
      "cell_type": "code",
      "metadata": {
        "id": "k_EZhsArHRlc"
      },
      "source": [
        "max_depth_values = range(1, 100)"
      ],
      "execution_count": null,
      "outputs": []
    },
    {
      "cell_type": "code",
      "metadata": {
        "id": "0jiLhwN_HTwC"
      },
      "source": [
        "scores_data = pd.DataFrame()"
      ],
      "execution_count": null,
      "outputs": []
    },
    {
      "cell_type": "code",
      "metadata": {
        "id": "rSkGMimjHW1N"
      },
      "source": [
        "for max_depth in max_depth_values:\r\n",
        "    clf = tree.DecisionTreeClassifier(criterion='entropy', max_depth=max_depth)\r\n",
        "    clf.fit(X_train, y_train)\r\n",
        "    train_score = clf.score(X_train, y_train)\r\n",
        "    test_score = clf.score(X_test, y_test)\r\n",
        "    \r\n",
        "    mean_cross_val_score = cross_val_score(clf, X_train, y_train, cv=5).mean()\r\n",
        "    \r\n",
        "    temp_score_data = pd.DataFrame({'max_depth': [max_depth],\r\n",
        "                                    'train_score': [train_score],\r\n",
        "                                    'test_score': [test_score],\r\n",
        "                                    'cross_val_score': [mean_cross_val_score]})\r\n",
        "    scores_data = scores_data.append(temp_score_data)"
      ],
      "execution_count": null,
      "outputs": []
    },
    {
      "cell_type": "code",
      "metadata": {
        "id": "tO9U_WPZXgq4"
      },
      "source": [
        "# scores_data_melt = pd.melt(scores_data, id_vars=['max_depth'],\r\n",
        "#                            value_vars=['train_score', 'test_score', 'cross_val_score'],\r\n",
        "#                            var_name='set_type', value_name='score')\r\n",
        "\r\n",
        "# # sns.set(rc={'figure.figsize':(11.7,8.27)})\r\n",
        "# # fig, ax = plt.subplots(1)\r\n",
        "# fig = plt.figure(figsize=(12,4))\r\n",
        "# ax = fig.add_subplot()\r\n",
        "# sns.lineplot(x='max_depth', y='score', hue='set_type', data=scores_data_melt, ax=ax)"
      ],
      "execution_count": null,
      "outputs": []
    },
    {
      "cell_type": "code",
      "metadata": {
        "id": "IXg1tT46KJ0O"
      },
      "source": [
        "fig = plt.figure(figsize=(12,4))\r\n",
        "ax = fig.add_subplot()\r\n",
        "scores_data.plot(x='max_depth', y=['train_score', 'test_score', 'cross_val_score'],\r\n",
        "                 legend = True, ax=ax)"
      ],
      "execution_count": null,
      "outputs": []
    },
    {
      "cell_type": "code",
      "metadata": {
        "id": "sYKX6z2pWup9"
      },
      "source": [
        "scores_data.sort_values(by=['cross_val_score'], ascending=False).head()\r\n",
        "# scores_data_melt.query(\"set_type == 'cross_val_score'\").sort_values(by=\"score\", ascending=False).head()"
      ],
      "execution_count": null,
      "outputs": []
    },
    {
      "cell_type": "code",
      "metadata": {
        "id": "VE6L0aemZcw_"
      },
      "source": [
        "best_clf = tree.DecisionTreeClassifier(criterion='entropy', max_depth=6)"
      ],
      "execution_count": null,
      "outputs": []
    },
    {
      "cell_type": "code",
      "metadata": {
        "id": "cZpkAePMaEOQ"
      },
      "source": [
        "best_clf.fit(X_train, y_train)"
      ],
      "execution_count": null,
      "outputs": []
    },
    {
      "cell_type": "code",
      "metadata": {
        "id": "FdO1Z_bxaEd8"
      },
      "source": [
        "print(\r\n",
        "    'Score:            ' + str(best_clf.score(X_test, y_test)) + \"\\n\" +\\\r\n",
        "    'Cross-val. score: ' + str(cross_val_score(clf, X_test, y_test, cv=5).mean())\r\n",
        ")"
      ],
      "execution_count": null,
      "outputs": []
    },
    {
      "cell_type": "markdown",
      "metadata": {
        "id": "fsd-s3tIbogv"
      },
      "source": [
        "### 2.2 Decision Tree Classifier (cross-validated grid-search over a parameter grid)"
      ]
    },
    {
      "cell_type": "code",
      "metadata": {
        "id": "v-hDtPm1aEsu"
      },
      "source": [
        "from sklearn.model_selection import GridSearchCV\r\n",
        "from sklearn.metrics import precision_score, recall_score, f1_score"
      ],
      "execution_count": null,
      "outputs": []
    },
    {
      "cell_type": "code",
      "metadata": {
        "id": "aTEnMiGYaE19"
      },
      "source": [
        "clf = tree.DecisionTreeClassifier()"
      ],
      "execution_count": null,
      "outputs": []
    },
    {
      "cell_type": "code",
      "metadata": {
        "id": "mTSwyclEaE_8"
      },
      "source": [
        "params = {'criterion': ['gini', 'entropy'], 'max_depth': range(1,30)}"
      ],
      "execution_count": null,
      "outputs": []
    },
    {
      "cell_type": "code",
      "metadata": {
        "id": "n5-N-wqLaFIy"
      },
      "source": [
        "gsc_clf = GridSearchCV(clf, params, cv=5)\r\n",
        "# grid_search_cv_cls.get_params()"
      ],
      "execution_count": null,
      "outputs": []
    },
    {
      "cell_type": "code",
      "metadata": {
        "id": "9lxPPCi4aFQI"
      },
      "source": [
        "gsc_clf.fit(X_train, y_train)"
      ],
      "execution_count": null,
      "outputs": []
    },
    {
      "cell_type": "code",
      "metadata": {
        "id": "G-RSGkRuaFWG"
      },
      "source": [
        "gsc_clf.best_params_"
      ],
      "execution_count": null,
      "outputs": []
    },
    {
      "cell_type": "code",
      "metadata": {
        "id": "cBc4jDw-aFa-"
      },
      "source": [
        "best_clf = gsc_clf.best_estimator_"
      ],
      "execution_count": null,
      "outputs": []
    },
    {
      "cell_type": "code",
      "metadata": {
        "id": "L2UDitHYkgmE"
      },
      "source": [
        "# accuracy, precision, recall\r\n",
        "#\r\n",
        "y_pred = best_clf.predict(X_test)\r\n",
        "\r\n",
        "print(\r\n",
        "    'accuracy  : ' + str(best_clf.score(X_test, y_test)) + '\\n' +\\\r\n",
        "    'precision : ' + str(precision_score(y_test, y_pred)) + '\\n' +\\\r\n",
        "    'recall    : ' + str(recall_score(y_test, y_pred)) + '\\n'\r\n",
        ")"
      ],
      "execution_count": null,
      "outputs": []
    },
    {
      "cell_type": "markdown",
      "metadata": {
        "id": "gLB14NSVt-i2"
      },
      "source": [
        "Trade off between recall and precision"
      ]
    },
    {
      "cell_type": "code",
      "metadata": {
        "id": "IKZvNQlsildx"
      },
      "source": [
        "# survival probability distribution\r\n",
        "#\r\n",
        "y_pred_prob = best_clf.predict_proba(X_test)\r\n",
        "\r\n",
        "pd.Series(y_pred_prob[:,1]).hist()\r\n",
        "\r\n",
        "# pd.DataFrame(\r\n",
        "#     {'Class_0': y_pred_prob[:,0], 'Class_1': y_pred_prob[:,1]}\r\n",
        "# ).head()"
      ],
      "execution_count": null,
      "outputs": []
    },
    {
      "cell_type": "code",
      "metadata": {
        "id": "gdVGwcb4qZN7"
      },
      "source": [
        "# calculated probability values\r\n",
        "np.sort(\r\n",
        "    pd.Series(y_pred_prob[:,1]).unique()\r\n",
        ")"
      ],
      "execution_count": null,
      "outputs": []
    },
    {
      "cell_type": "code",
      "metadata": {
        "id": "v79SC6fwilsb"
      },
      "source": [
        "# heuristic: let's consider as survived those with probability >= 0.8\r\n",
        "#\r\n",
        "y_pred_heu = np.where(y_pred_prob[:,1] >= 0.8, 1, 0)"
      ],
      "execution_count": null,
      "outputs": []
    },
    {
      "cell_type": "code",
      "metadata": {
        "id": "4YK-95X9il6v"
      },
      "source": [
        "print('Precision delta : ' + \\\r\n",
        "      str(precision_score(y_test, y_pred_heu) - precision_score(y_test, y_pred))\r\n",
        ")\r\n",
        "print('Recall delta    : ' + \\\r\n",
        "      str(recall_score(y_test, y_pred_heu) - recall_score(y_test, y_pred))\r\n",
        ")"
      ],
      "execution_count": null,
      "outputs": []
    },
    {
      "cell_type": "markdown",
      "metadata": {
        "id": "iV9XVCmbi0jZ"
      },
      "source": [
        "### 2.3 ROC, AUC"
      ]
    },
    {
      "cell_type": "code",
      "metadata": {
        "id": "4c7kfcxsiyHh"
      },
      "source": [
        "from sklearn.metrics import roc_curve, auc\r\n",
        "fpr, tpr, thresholds = roc_curve(y_test, y_pred_prob[:,1])\r\n",
        "roc_auc= auc(fpr, tpr)\r\n",
        "plt.figure()\r\n",
        "plt.plot(fpr, tpr, color='darkorange',\r\n",
        "         label='ROC curve (area = %0.2f)' % roc_auc)\r\n",
        "plt.plot([0, 1], [0, 1], color='navy', linestyle='--')\r\n",
        "plt.xlim([0.0, 1.0])\r\n",
        "plt.ylim([0.0, 1.05])\r\n",
        "plt.xlabel('False Positive Rate')\r\n",
        "plt.ylabel('True Positive Rate')\r\n",
        "plt.title('Receiver operating characteristic example')\r\n",
        "plt.legend(loc=\"lower right\")\r\n",
        "plt.show()"
      ],
      "execution_count": null,
      "outputs": []
    },
    {
      "cell_type": "markdown",
      "metadata": {
        "id": "bzvsZDDFrsTP"
      },
      "source": [
        "### 2.4 Visualize decision tree"
      ]
    },
    {
      "cell_type": "code",
      "metadata": {
        "id": "YODI2Z6YEDW1"
      },
      "source": [
        "from IPython.display import SVG\r\n",
        "from graphviz import Source\r\n",
        "from IPython.display import display\r\n",
        "# from IPython.display import HTML\r\n",
        "# style = \"<style>svg{width:70% !important;height:70%; !important;}</style>\"\r\n",
        "# HTML(style)\r\n",
        "graph = Source(tree.export_graphviz(best_clf, out_file=None,\r\n",
        "                                    feature_names=list(X),\r\n",
        "                                    class_names=['Negative', 'Positive'],\r\n",
        "                                    filled=True))\r\n",
        "display(SVG(graph.pipe(format='svg')))"
      ],
      "execution_count": null,
      "outputs": []
    },
    {
      "cell_type": "code",
      "metadata": {
        "id": "i7C8sKoiEPdG"
      },
      "source": [
        "# tree.plot_tree(best_clf, feature_names=list(X),\r\n",
        "#                class_names=['Negative', 'Positive'],\r\n",
        "#                filled=True, max_depth=6, fontsize=10);"
      ],
      "execution_count": null,
      "outputs": []
    },
    {
      "cell_type": "markdown",
      "metadata": {
        "id": "it8B2nSjkqSB"
      },
      "source": [
        "### 3. Random Forest Classifier"
      ]
    },
    {
      "cell_type": "markdown",
      "metadata": {
        "id": "fZd5sc8zlXO1"
      },
      "source": [
        "#### 3.1 Simple tree"
      ]
    },
    {
      "cell_type": "code",
      "metadata": {
        "id": "wYoYA9vik1bS"
      },
      "source": [
        "clf = tree.DecisionTreeClassifier(criterion='entropy',\r\n",
        "                                  max_depth=3,\r\n",
        "                                  min_samples_split=100,\r\n",
        "                                  min_samples_leaf=10)"
      ],
      "execution_count": null,
      "outputs": []
    },
    {
      "cell_type": "code",
      "metadata": {
        "id": "RY-oiJc4k_0O"
      },
      "source": [
        "clf.fit(X_train, y_train)"
      ],
      "execution_count": null,
      "outputs": []
    },
    {
      "cell_type": "code",
      "metadata": {
        "id": "FP5BWccClG2e"
      },
      "source": [
        "# graph = Source(tree.export_graphviz(clf, out_file=None,\r\n",
        "#                                    feature_names=list(X),\r\n",
        "#                                    class_names=['Died', 'Survived'],\r\n",
        "#                                    filled = True))\r\n",
        "# display(SVG(graph.pipe(format='svg')))\r\n",
        "\r\n",
        "plt.figure(figsize=(40, 20),dpi=80)\r\n",
        "p = tree.plot_tree(clf, fontsize=30, filled=True, \r\n",
        "                   feature_names=list(X), class_names=['Died', 'Survived'])"
      ],
      "execution_count": null,
      "outputs": []
    },
    {
      "cell_type": "markdown",
      "metadata": {
        "id": "hHCCoUOGlnvf"
      },
      "source": [
        "#### 3.2 Random Forest"
      ]
    },
    {
      "cell_type": "code",
      "metadata": {
        "id": "2PiDHeP4ltBx"
      },
      "source": [
        "from sklearn.ensemble import RandomForestClassifier"
      ],
      "execution_count": null,
      "outputs": []
    },
    {
      "cell_type": "code",
      "metadata": {
        "id": "Zxqy1IOLlymn"
      },
      "source": [
        "clf_rf = RandomForestClassifier()\r\n",
        "parametrs = {'n_estimators': [10,20,30], 'max_depth': [2,5,7,10]}"
      ],
      "execution_count": null,
      "outputs": []
    },
    {
      "cell_type": "code",
      "metadata": {
        "id": "1a0mdUAGl2DR"
      },
      "source": [
        "grid_search_cv_clf = GridSearchCV(clf_rf, parametrs, cv=5)"
      ],
      "execution_count": null,
      "outputs": []
    },
    {
      "cell_type": "code",
      "metadata": {
        "id": "yi8D_WtamDuZ"
      },
      "source": [
        "grid_search_cv_clf.fit(X_train, y_train['Survived'])"
      ],
      "execution_count": null,
      "outputs": []
    },
    {
      "cell_type": "code",
      "metadata": {
        "id": "BkYUniyimIpI"
      },
      "source": [
        "grid_search_cv_clf.best_params_"
      ],
      "execution_count": null,
      "outputs": []
    },
    {
      "cell_type": "code",
      "metadata": {
        "id": "VtjGArhSmMrS"
      },
      "source": [
        "best_clf = grid_search_cv_clf.best_estimator_"
      ],
      "execution_count": null,
      "outputs": []
    },
    {
      "cell_type": "code",
      "metadata": {
        "id": "edD9ENuWmP1_"
      },
      "source": [
        "best_clf.score(X_test, y_test)"
      ],
      "execution_count": null,
      "outputs": []
    },
    {
      "cell_type": "code",
      "metadata": {
        "id": "NRUmgTKNmSyR"
      },
      "source": [
        "best_clf.feature_importances_"
      ],
      "execution_count": null,
      "outputs": []
    },
    {
      "cell_type": "code",
      "metadata": {
        "id": "-ecK9_WTmW8d"
      },
      "source": [
        "feature_importances = best_clf.feature_importances_\r\n",
        "\r\n",
        "feature_importances_df = pd.DataFrame({'features':list(X_train),\r\n",
        "                                       'feature_importances': feature_importances})\r\n",
        "\r\n",
        "feature_importances_df.sort_values('feature_importances', ascending=False)"
      ],
      "execution_count": null,
      "outputs": []
    },
    {
      "cell_type": "code",
      "metadata": {
        "id": "_zGUmuVsmlzf"
      },
      "source": [
        "feature_importances_df.plot.pie(\r\n",
        "                        explode=[0.1]*len(X_train.columns),\r\n",
        "                        labels = feature_importances_df.features,\r\n",
        "                        y = 'feature_importances',\r\n",
        "                        autopct='%1.1f%%',\r\n",
        "                        shadow=True,\r\n",
        "                        legend=False,\r\n",
        "                        figsize=(8, 8));"
      ],
      "execution_count": null,
      "outputs": []
    }
  ]
}